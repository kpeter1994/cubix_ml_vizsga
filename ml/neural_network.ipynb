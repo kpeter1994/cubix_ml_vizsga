{
 "cells": [
  {
   "cell_type": "code",
   "id": "initial_id",
   "metadata": {
    "collapsed": true,
    "ExecuteTime": {
     "end_time": "2025-06-02T07:52:23.423866Z",
     "start_time": "2025-06-02T07:52:23.405868Z"
    }
   },
   "source": [
    "import pandas as pd\n",
    "import numpy as np"
   ],
   "outputs": [],
   "execution_count": 6
  },
  {
   "metadata": {
    "ExecuteTime": {
     "end_time": "2025-06-02T07:52:23.532469Z",
     "start_time": "2025-06-02T07:52:23.426869Z"
    }
   },
   "cell_type": "code",
   "source": [
    "df = pd.read_csv('article_leman.csv')\n",
    "df.drop('Unnamed: 0', axis=1, inplace=True)"
   ],
   "id": "98732249bf7b8c5d",
   "outputs": [],
   "execution_count": 7
  },
  {
   "metadata": {
    "ExecuteTime": {
     "end_time": "2025-06-02T07:52:23.563569Z",
     "start_time": "2025-06-02T07:52:23.549567Z"
    }
   },
   "cell_type": "code",
   "source": "df",
   "id": "1d152a32c2bd1e80",
   "outputs": [
    {
     "data": {
      "text/plain": [
       "       category                                               text  \\\n",
       "0         sport  Szijjártó Péter az öltözőben gratulált a válog...   \n",
       "1         sport  Szilágyi Áron bronzérmes lett a vívó-világbajn...   \n",
       "2      gazdasag  Ifjuságkutató Intézet: a fiatalok többsége Mag...   \n",
       "3         sport  A négyszeres világbajnok angol klasszist is ki...   \n",
       "4       kulfold  Eltávolították a Twitter feliratot A rendőrség...   \n",
       "...         ...                                                ...   \n",
       "18834   belfold  Gömbös Gyula egykori lakóhelyén működik a Part...   \n",
       "18835   kulfold  Ukrán gyerekek háborús naplóit mutatták be Ams...   \n",
       "18836   belfold  Publicus Intézet: a magyarok negyede azt sem t...   \n",
       "18837   belfold  A kultúra mindig változik Száz éve Krúdy, most...   \n",
       "18838   belfold  Nem fizet az augusztus 20-i területfoglalásoké...   \n",
       "\n",
       "                                         lemmatized_text  \n",
       "0      szijjártó péter öltöző gratulál válogatott ját...  \n",
       "1      szilágyi ár bronzérmes hat tus vezet elődöntő ...  \n",
       "2      ifjuságkutató intézet fiatal többség magyarors...  \n",
       "3      négyszeres világbajnok angol klasszis kiment r...  \n",
       "4      eltávolít twitter felirat rendőrség megjelenik...  \n",
       "...                                                  ...  \n",
       "18834  gömbös gyula egykori lakóhely működik partizán...  \n",
       "18835  ukrán gyerek háborús napló mutat amszterdam há...  \n",
       "18836  publicus intézet magyar negyed tud hol rendez ...  \n",
       "18837      kultúra változik száz év krúdy mostanra krúbi  \n",
       "18838  fizet augusztus területfoglalás kormány budape...  \n",
       "\n",
       "[18839 rows x 3 columns]"
      ],
      "text/html": [
       "<div>\n",
       "<style scoped>\n",
       "    .dataframe tbody tr th:only-of-type {\n",
       "        vertical-align: middle;\n",
       "    }\n",
       "\n",
       "    .dataframe tbody tr th {\n",
       "        vertical-align: top;\n",
       "    }\n",
       "\n",
       "    .dataframe thead th {\n",
       "        text-align: right;\n",
       "    }\n",
       "</style>\n",
       "<table border=\"1\" class=\"dataframe\">\n",
       "  <thead>\n",
       "    <tr style=\"text-align: right;\">\n",
       "      <th></th>\n",
       "      <th>category</th>\n",
       "      <th>text</th>\n",
       "      <th>lemmatized_text</th>\n",
       "    </tr>\n",
       "  </thead>\n",
       "  <tbody>\n",
       "    <tr>\n",
       "      <th>0</th>\n",
       "      <td>sport</td>\n",
       "      <td>Szijjártó Péter az öltözőben gratulált a válog...</td>\n",
       "      <td>szijjártó péter öltöző gratulál válogatott ját...</td>\n",
       "    </tr>\n",
       "    <tr>\n",
       "      <th>1</th>\n",
       "      <td>sport</td>\n",
       "      <td>Szilágyi Áron bronzérmes lett a vívó-világbajn...</td>\n",
       "      <td>szilágyi ár bronzérmes hat tus vezet elődöntő ...</td>\n",
       "    </tr>\n",
       "    <tr>\n",
       "      <th>2</th>\n",
       "      <td>gazdasag</td>\n",
       "      <td>Ifjuságkutató Intézet: a fiatalok többsége Mag...</td>\n",
       "      <td>ifjuságkutató intézet fiatal többség magyarors...</td>\n",
       "    </tr>\n",
       "    <tr>\n",
       "      <th>3</th>\n",
       "      <td>sport</td>\n",
       "      <td>A négyszeres világbajnok angol klasszist is ki...</td>\n",
       "      <td>négyszeres világbajnok angol klasszis kiment r...</td>\n",
       "    </tr>\n",
       "    <tr>\n",
       "      <th>4</th>\n",
       "      <td>kulfold</td>\n",
       "      <td>Eltávolították a Twitter feliratot A rendőrség...</td>\n",
       "      <td>eltávolít twitter felirat rendőrség megjelenik...</td>\n",
       "    </tr>\n",
       "    <tr>\n",
       "      <th>...</th>\n",
       "      <td>...</td>\n",
       "      <td>...</td>\n",
       "      <td>...</td>\n",
       "    </tr>\n",
       "    <tr>\n",
       "      <th>18834</th>\n",
       "      <td>belfold</td>\n",
       "      <td>Gömbös Gyula egykori lakóhelyén működik a Part...</td>\n",
       "      <td>gömbös gyula egykori lakóhely működik partizán...</td>\n",
       "    </tr>\n",
       "    <tr>\n",
       "      <th>18835</th>\n",
       "      <td>kulfold</td>\n",
       "      <td>Ukrán gyerekek háborús naplóit mutatták be Ams...</td>\n",
       "      <td>ukrán gyerek háborús napló mutat amszterdam há...</td>\n",
       "    </tr>\n",
       "    <tr>\n",
       "      <th>18836</th>\n",
       "      <td>belfold</td>\n",
       "      <td>Publicus Intézet: a magyarok negyede azt sem t...</td>\n",
       "      <td>publicus intézet magyar negyed tud hol rendez ...</td>\n",
       "    </tr>\n",
       "    <tr>\n",
       "      <th>18837</th>\n",
       "      <td>belfold</td>\n",
       "      <td>A kultúra mindig változik Száz éve Krúdy, most...</td>\n",
       "      <td>kultúra változik száz év krúdy mostanra krúbi</td>\n",
       "    </tr>\n",
       "    <tr>\n",
       "      <th>18838</th>\n",
       "      <td>belfold</td>\n",
       "      <td>Nem fizet az augusztus 20-i területfoglalásoké...</td>\n",
       "      <td>fizet augusztus területfoglalás kormány budape...</td>\n",
       "    </tr>\n",
       "  </tbody>\n",
       "</table>\n",
       "<p>18839 rows × 3 columns</p>\n",
       "</div>"
      ]
     },
     "execution_count": 8,
     "metadata": {},
     "output_type": "execute_result"
    }
   ],
   "execution_count": 8
  },
  {
   "metadata": {
    "ExecuteTime": {
     "end_time": "2025-06-02T07:53:43.342871Z",
     "start_time": "2025-06-02T07:52:23.588569Z"
    }
   },
   "cell_type": "code",
   "source": [
    "from sklearn.feature_extraction.text import TfidfVectorizer\n",
    "from sklearn.model_selection import train_test_split\n",
    "from sklearn.preprocessing import LabelEncoder\n",
    "from sklearn.utils.class_weight import compute_class_weight\n",
    "from tensorflow.keras.models import Sequential\n",
    "from tensorflow.keras.layers import Dense\n",
    "from tensorflow.keras.utils import to_categorical\n",
    "from tensorflow.keras.callbacks import EarlyStopping\n",
    "import numpy as np\n",
    "\n",
    "# 1. TF-IDF kombináció\n",
    "df['combined'] = df['text'] + ' ' + df['lemmatized_text']\n",
    "\n",
    "vectorizer = TfidfVectorizer(max_features=20000, ngram_range=(1, 2))\n",
    "X = vectorizer.fit_transform(df['combined'])\n",
    "\n",
    "# 2. Célváltozó előkészítése\n",
    "le = LabelEncoder()\n",
    "y = le.fit_transform(df['category'])\n",
    "y_cat = to_categorical(y)\n",
    "\n",
    "# 3. Tanító és teszt halmaz\n",
    "X_train, X_test, y_train, y_test = train_test_split(X, y_cat, stratify=y, test_size=0.2, random_state=42)\n",
    "\n",
    "# 4. Súlyozás a kiegyensúlyozatlan osztályokhoz\n",
    "class_weights = compute_class_weight(class_weight='balanced', classes=np.unique(y), y=y)\n",
    "weight_dict = dict(enumerate(class_weights))\n",
    "\n",
    "# 5. Neurális háló modell\n",
    "model = Sequential([\n",
    "    Dense(256, activation='relu', input_shape=(X.shape[1],)),\n",
    "    Dense(64, activation='relu'),\n",
    "    Dense(y_cat.shape[1], activation='softmax')\n",
    "])\n",
    "\n",
    "model.compile(optimizer='adam', loss='categorical_crossentropy', metrics=['accuracy'])\n",
    "\n",
    "early_stop = EarlyStopping(monitor='val_loss', patience=2, restore_best_weights=True)\n",
    "\n",
    "# 6. Tanítás\n",
    "model.fit(X_train.toarray(), y_train, epochs=10, batch_size=64, validation_split=0.2, class_weight=weight_dict)\n",
    "\n",
    "# 7. Értékelés\n",
    "loss, acc = model.evaluate(X_test.toarray(), y_test)\n",
    "print(f\"Pontosság: {acc:.3f}\")\n"
   ],
   "id": "103821f4f293598",
   "outputs": [
    {
     "name": "stdout",
     "output_type": "stream",
     "text": [
      "Epoch 1/10\n",
      "189/189 [==============================] - 9s 46ms/step - loss: 1.3764 - accuracy: 0.6270 - val_loss: 0.9178 - val_accuracy: 0.7068\n",
      "Epoch 2/10\n",
      "189/189 [==============================] - 8s 44ms/step - loss: 0.4060 - accuracy: 0.8768 - val_loss: 0.8658 - val_accuracy: 0.7221\n",
      "Epoch 3/10\n",
      "189/189 [==============================] - 9s 46ms/step - loss: 0.1096 - accuracy: 0.9650 - val_loss: 0.9320 - val_accuracy: 0.7317\n",
      "Epoch 4/10\n",
      "189/189 [==============================] - 9s 47ms/step - loss: 0.0386 - accuracy: 0.9891 - val_loss: 1.0341 - val_accuracy: 0.7280\n",
      "Epoch 5/10\n",
      "189/189 [==============================] - 9s 50ms/step - loss: 0.0203 - accuracy: 0.9948 - val_loss: 1.1098 - val_accuracy: 0.7297\n",
      "Epoch 6/10\n",
      "189/189 [==============================] - 9s 48ms/step - loss: 0.0125 - accuracy: 0.9968 - val_loss: 1.1773 - val_accuracy: 0.7264\n",
      "Epoch 7/10\n",
      "189/189 [==============================] - 7s 35ms/step - loss: 0.0087 - accuracy: 0.9974 - val_loss: 1.2265 - val_accuracy: 0.7257\n",
      "Epoch 8/10\n",
      "189/189 [==============================] - 5s 28ms/step - loss: 0.0079 - accuracy: 0.9977 - val_loss: 1.2657 - val_accuracy: 0.7270\n",
      "Epoch 9/10\n",
      "189/189 [==============================] - 5s 27ms/step - loss: 0.0064 - accuracy: 0.9982 - val_loss: 1.3053 - val_accuracy: 0.7224\n",
      "Epoch 10/10\n",
      "189/189 [==============================] - 5s 27ms/step - loss: 0.0063 - accuracy: 0.9983 - val_loss: 1.3401 - val_accuracy: 0.7224\n",
      "118/118 [==============================] - 0s 3ms/step - loss: 1.3437 - accuracy: 0.7245\n",
      "Pontosság: 0.725\n"
     ]
    }
   ],
   "execution_count": 9
  },
  {
   "metadata": {
    "ExecuteTime": {
     "end_time": "2025-06-02T07:53:43.449872Z",
     "start_time": "2025-06-02T07:53:43.404875Z"
    }
   },
   "cell_type": "code",
   "source": "model.save(\"model_nev.h5\")\n",
   "id": "551839a23f2c5c9c",
   "outputs": [
    {
     "name": "stderr",
     "output_type": "stream",
     "text": [
      "C:\\Users\\KomPhone\\projects\\ml\\cubix_ml_2\\.venv\\lib\\site-packages\\keras\\src\\engine\\training.py:3079: UserWarning: You are saving your model as an HDF5 file via `model.save()`. This file format is considered legacy. We recommend using instead the native Keras format, e.g. `model.save('my_model.keras')`.\n",
      "  saving_api.save_model(\n"
     ]
    }
   ],
   "execution_count": 10
  },
  {
   "metadata": {
    "ExecuteTime": {
     "end_time": "2025-06-02T07:57:45.490909Z",
     "start_time": "2025-06-02T07:57:45.334911Z"
    }
   },
   "cell_type": "code",
   "source": [
    "from tensorflow.keras.models import load_model\n",
    "from sklearn.feature_extraction.text import TfidfVectorizer\n",
    "import numpy as np\n",
    "\n",
    "model = load_model(\"model_nev.h5\")\n",
    "\n",
    "text = \"50 milliárdért szerzi meg a Mol a BME fenntartóját\"\n",
    "text_lemmatized = \"\"\n",
    "combined = text + \" \" + text_lemmatized\n",
    "\n",
    "X_new = vectorizer.transform([combined])\n",
    "X_new_dense = X_new.toarray()  # ← ez oldja meg a hibát\n",
    "\n",
    "y_pred = model.predict(X_new_dense)\n",
    "pred_label = np.argmax(y_pred, axis=1)\n",
    "\n",
    "print(\"Predikált osztály index:\", pred_label[0])\n",
    "print(\"Kategória:\", le.inverse_transform(pred_label)[0])\n"
   ],
   "id": "70f817b626be81fb",
   "outputs": [
    {
     "name": "stdout",
     "output_type": "stream",
     "text": [
      "1/1 [==============================] - 0s 26ms/step\n",
      "Predikált osztály index: 2\n",
      "Kategória: gazdasag\n"
     ]
    }
   ],
   "execution_count": 19
  }
 ],
 "metadata": {
  "kernelspec": {
   "display_name": "Python 3",
   "language": "python",
   "name": "python3"
  },
  "language_info": {
   "codemirror_mode": {
    "name": "ipython",
    "version": 2
   },
   "file_extension": ".py",
   "mimetype": "text/x-python",
   "name": "python",
   "nbconvert_exporter": "python",
   "pygments_lexer": "ipython2",
   "version": "2.7.6"
  }
 },
 "nbformat": 4,
 "nbformat_minor": 5
}

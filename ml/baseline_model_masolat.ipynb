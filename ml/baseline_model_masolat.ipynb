{
 "cells": [
  {
   "cell_type": "code",
   "id": "initial_id",
   "metadata": {
    "collapsed": true,
    "ExecuteTime": {
     "end_time": "2025-06-05T11:18:26.682453Z",
     "start_time": "2025-06-05T11:18:26.660009Z"
    }
   },
   "source": [
    "import pandas as pd\n",
    "import pymysql\n",
    "from sqlalchemy import create_engine\n",
    "import numpy as np\n",
    "from dotenv import load_dotenv\n",
    "import os"
   ],
   "outputs": [],
   "execution_count": 41
  },
  {
   "metadata": {},
   "cell_type": "markdown",
   "source": "## Adatok lematizálása és adatbázisba mentése",
   "id": "72e6fb09a925e44b"
  },
  {
   "metadata": {
    "ExecuteTime": {
     "end_time": "2025-06-05T11:18:26.744834Z",
     "start_time": "2025-06-05T11:18:26.690455Z"
    }
   },
   "cell_type": "code",
   "source": [
    "load_dotenv()\n",
    "DATABASE_URL = os.getenv(\"DATABASE_URL\")\n",
    "engine = create_engine(DATABASE_URL)\n",
    "\n",
    "df = pd.read_sql(\"SELECT * FROM articles WHERE lemmatized_text is NULL \", con=engine)\n"
   ],
   "id": "b7ea6919a395213b",
   "outputs": [],
   "execution_count": 42
  },
  {
   "metadata": {
    "ExecuteTime": {
     "end_time": "2025-06-05T11:18:26.823464Z",
     "start_time": "2025-06-05T11:18:26.809969Z"
    }
   },
   "cell_type": "code",
   "source": [
    "from bs4 import BeautifulSoup\n",
    "\n",
    "df['summary'] = df['summary'].apply(lambda x: BeautifulSoup(str(x), 'html.parser').get_text())"
   ],
   "id": "5de83b00e30c358",
   "outputs": [],
   "execution_count": 43
  },
  {
   "metadata": {
    "ExecuteTime": {
     "end_time": "2025-06-05T11:18:26.886176Z",
     "start_time": "2025-06-05T11:18:26.871177Z"
    }
   },
   "cell_type": "code",
   "source": "df['text'] = df['title'] + ' ' + df['summary']",
   "id": "4e8b71972c73b261",
   "outputs": [],
   "execution_count": 44
  },
  {
   "metadata": {
    "ExecuteTime": {
     "end_time": "2025-06-05T11:18:26.901178Z",
     "start_time": "2025-06-05T11:18:26.890176Z"
    }
   },
   "cell_type": "code",
   "source": "df",
   "id": "6cbe03c6768c4646",
   "outputs": [
    {
     "data": {
      "text/plain": [
       "        id                                              title  \\\n",
       "0    30273  Hatalmasat zuhant a magyar bankok nyeresége: m...   \n",
       "1    30274  Palkovics László: hamarosan elfogadhatja a kor...   \n",
       "2    30275    Jó hangulatban várják a tőzsdék a nap eseményét   \n",
       "3    30276               Nagy forgalommal emelkedik a Richter   \n",
       "4    30277  „Egy igazi rosszfiú” – Végre kiderült, mit gon...   \n",
       "..     ...                                                ...   \n",
       "141  30414  Hoppá: gyűrűt vett a Tankcsapda dobosa, közele...   \n",
       "142  30415  Kőszeg látnivalói – Egy varázslatos város, aho...   \n",
       "143  30416  Szirénázó rendőrautók lepték el Katalin és Vil...   \n",
       "144  30417  Ezek a világ legszebb strandjai 2025-ben – Az ...   \n",
       "145  30418  Tömegkarambol bénította meg az M0-st, roncsok ...   \n",
       "\n",
       "                                               summary lemmatized_text  \\\n",
       "0    Első ránézésre feltűnően rosszul muzsikált a m...            None   \n",
       "1    A 2020-ban elfogadott mesterséges intelligenci...            None   \n",
       "2    Vegyes irányok és mérsékelt elmozdulások jelle...            None   \n",
       "3    Az európai tőzsdéken enyhén pozitív a hangulat...            None   \n",
       "4    A The New York Times beszámolt róla, hogy köze...            None   \n",
       "..                                                 ...             ...   \n",
       "141      Fejes Tamás 130 ezret fizetett a gyönyörűért.            None   \n",
       "142  Kőszeg látnivalói között a középkori vár, a ha...            None   \n",
       "143                       Az elkövetőt hamar elfogták.            None   \n",
       "144  Idén a világ legszebb strandja Európában van –...            None   \n",
       "145              Három személyautó ütközött egymásnak.            None   \n",
       "\n",
       "                                                  link           category  \\\n",
       "0    https://www.portfolio.hu/bank/20250605/hatalma...               Bank   \n",
       "1    https://www.portfolio.hu/gazdasag/20250605/pal...           Gazdaság   \n",
       "2    https://www.portfolio.hu/uzlet/20250605/jo-han...              Üzlet   \n",
       "3    https://www.portfolio.hu/uzlet/20250605/nagy-f...              Üzlet   \n",
       "4    https://www.portfolio.hu/global/20250605/egy-i...             Globál   \n",
       "..                                                 ...                ...   \n",
       "141  https://www.borsonline.hu/magyar-sztarhirek/20...  magyar-sztarhirek   \n",
       "142  https://www.borsonline.hu/belfoldi-utazas/2025...    belfoldi-utazas   \n",
       "143  https://www.borsonline.hu/kiralyi-csalad/2025/...     kiralyi-csalad   \n",
       "144  https://www.borsonline.hu/kulfoldi-utazas/2025...    kulfoldi-utazas   \n",
       "145  https://www.borsonline.hu/kek-hirek/2025/06/ut...          kek-hirek   \n",
       "\n",
       "    predicted_category           published  \\\n",
       "0                 None 2025-06-05 11:12:00   \n",
       "1                 None 2025-06-05 11:01:00   \n",
       "2                 None 2025-06-05 11:00:00   \n",
       "3                 None 2025-06-05 11:00:00   \n",
       "4                 None 2025-06-05 10:53:00   \n",
       "..                 ...                 ...   \n",
       "141               None 2025-06-05 10:20:00   \n",
       "142               None 2025-06-05 10:15:00   \n",
       "143               None 2025-06-05 10:00:00   \n",
       "144               None 2025-06-05 09:45:00   \n",
       "145               None 2025-06-05 09:38:53   \n",
       "\n",
       "                                                  text  \n",
       "0    Hatalmasat zuhant a magyar bankok nyeresége: m...  \n",
       "1    Palkovics László: hamarosan elfogadhatja a kor...  \n",
       "2    Jó hangulatban várják a tőzsdék a nap eseményé...  \n",
       "3    Nagy forgalommal emelkedik a Richter Az európa...  \n",
       "4    „Egy igazi rosszfiú” – Végre kiderült, mit gon...  \n",
       "..                                                 ...  \n",
       "141  Hoppá: gyűrűt vett a Tankcsapda dobosa, közele...  \n",
       "142  Kőszeg látnivalói – Egy varázslatos város, aho...  \n",
       "143  Szirénázó rendőrautók lepték el Katalin és Vil...  \n",
       "144  Ezek a világ legszebb strandjai 2025-ben – Az ...  \n",
       "145  Tömegkarambol bénította meg az M0-st, roncsok ...  \n",
       "\n",
       "[146 rows x 9 columns]"
      ],
      "text/html": [
       "<div>\n",
       "<style scoped>\n",
       "    .dataframe tbody tr th:only-of-type {\n",
       "        vertical-align: middle;\n",
       "    }\n",
       "\n",
       "    .dataframe tbody tr th {\n",
       "        vertical-align: top;\n",
       "    }\n",
       "\n",
       "    .dataframe thead th {\n",
       "        text-align: right;\n",
       "    }\n",
       "</style>\n",
       "<table border=\"1\" class=\"dataframe\">\n",
       "  <thead>\n",
       "    <tr style=\"text-align: right;\">\n",
       "      <th></th>\n",
       "      <th>id</th>\n",
       "      <th>title</th>\n",
       "      <th>summary</th>\n",
       "      <th>lemmatized_text</th>\n",
       "      <th>link</th>\n",
       "      <th>category</th>\n",
       "      <th>predicted_category</th>\n",
       "      <th>published</th>\n",
       "      <th>text</th>\n",
       "    </tr>\n",
       "  </thead>\n",
       "  <tbody>\n",
       "    <tr>\n",
       "      <th>0</th>\n",
       "      <td>30273</td>\n",
       "      <td>Hatalmasat zuhant a magyar bankok nyeresége: m...</td>\n",
       "      <td>Első ránézésre feltűnően rosszul muzsikált a m...</td>\n",
       "      <td>None</td>\n",
       "      <td>https://www.portfolio.hu/bank/20250605/hatalma...</td>\n",
       "      <td>Bank</td>\n",
       "      <td>None</td>\n",
       "      <td>2025-06-05 11:12:00</td>\n",
       "      <td>Hatalmasat zuhant a magyar bankok nyeresége: m...</td>\n",
       "    </tr>\n",
       "    <tr>\n",
       "      <th>1</th>\n",
       "      <td>30274</td>\n",
       "      <td>Palkovics László: hamarosan elfogadhatja a kor...</td>\n",
       "      <td>A 2020-ban elfogadott mesterséges intelligenci...</td>\n",
       "      <td>None</td>\n",
       "      <td>https://www.portfolio.hu/gazdasag/20250605/pal...</td>\n",
       "      <td>Gazdaság</td>\n",
       "      <td>None</td>\n",
       "      <td>2025-06-05 11:01:00</td>\n",
       "      <td>Palkovics László: hamarosan elfogadhatja a kor...</td>\n",
       "    </tr>\n",
       "    <tr>\n",
       "      <th>2</th>\n",
       "      <td>30275</td>\n",
       "      <td>Jó hangulatban várják a tőzsdék a nap eseményét</td>\n",
       "      <td>Vegyes irányok és mérsékelt elmozdulások jelle...</td>\n",
       "      <td>None</td>\n",
       "      <td>https://www.portfolio.hu/uzlet/20250605/jo-han...</td>\n",
       "      <td>Üzlet</td>\n",
       "      <td>None</td>\n",
       "      <td>2025-06-05 11:00:00</td>\n",
       "      <td>Jó hangulatban várják a tőzsdék a nap eseményé...</td>\n",
       "    </tr>\n",
       "    <tr>\n",
       "      <th>3</th>\n",
       "      <td>30276</td>\n",
       "      <td>Nagy forgalommal emelkedik a Richter</td>\n",
       "      <td>Az európai tőzsdéken enyhén pozitív a hangulat...</td>\n",
       "      <td>None</td>\n",
       "      <td>https://www.portfolio.hu/uzlet/20250605/nagy-f...</td>\n",
       "      <td>Üzlet</td>\n",
       "      <td>None</td>\n",
       "      <td>2025-06-05 11:00:00</td>\n",
       "      <td>Nagy forgalommal emelkedik a Richter Az európa...</td>\n",
       "    </tr>\n",
       "    <tr>\n",
       "      <th>4</th>\n",
       "      <td>30277</td>\n",
       "      <td>„Egy igazi rosszfiú” – Végre kiderült, mit gon...</td>\n",
       "      <td>A The New York Times beszámolt róla, hogy köze...</td>\n",
       "      <td>None</td>\n",
       "      <td>https://www.portfolio.hu/global/20250605/egy-i...</td>\n",
       "      <td>Globál</td>\n",
       "      <td>None</td>\n",
       "      <td>2025-06-05 10:53:00</td>\n",
       "      <td>„Egy igazi rosszfiú” – Végre kiderült, mit gon...</td>\n",
       "    </tr>\n",
       "    <tr>\n",
       "      <th>...</th>\n",
       "      <td>...</td>\n",
       "      <td>...</td>\n",
       "      <td>...</td>\n",
       "      <td>...</td>\n",
       "      <td>...</td>\n",
       "      <td>...</td>\n",
       "      <td>...</td>\n",
       "      <td>...</td>\n",
       "      <td>...</td>\n",
       "    </tr>\n",
       "    <tr>\n",
       "      <th>141</th>\n",
       "      <td>30414</td>\n",
       "      <td>Hoppá: gyűrűt vett a Tankcsapda dobosa, közele...</td>\n",
       "      <td>Fejes Tamás 130 ezret fizetett a gyönyörűért.</td>\n",
       "      <td>None</td>\n",
       "      <td>https://www.borsonline.hu/magyar-sztarhirek/20...</td>\n",
       "      <td>magyar-sztarhirek</td>\n",
       "      <td>None</td>\n",
       "      <td>2025-06-05 10:20:00</td>\n",
       "      <td>Hoppá: gyűrűt vett a Tankcsapda dobosa, közele...</td>\n",
       "    </tr>\n",
       "    <tr>\n",
       "      <th>142</th>\n",
       "      <td>30415</td>\n",
       "      <td>Kőszeg látnivalói – Egy varázslatos város, aho...</td>\n",
       "      <td>Kőszeg látnivalói között a középkori vár, a ha...</td>\n",
       "      <td>None</td>\n",
       "      <td>https://www.borsonline.hu/belfoldi-utazas/2025...</td>\n",
       "      <td>belfoldi-utazas</td>\n",
       "      <td>None</td>\n",
       "      <td>2025-06-05 10:15:00</td>\n",
       "      <td>Kőszeg látnivalói – Egy varázslatos város, aho...</td>\n",
       "    </tr>\n",
       "    <tr>\n",
       "      <th>143</th>\n",
       "      <td>30416</td>\n",
       "      <td>Szirénázó rendőrautók lepték el Katalin és Vil...</td>\n",
       "      <td>Az elkövetőt hamar elfogták.</td>\n",
       "      <td>None</td>\n",
       "      <td>https://www.borsonline.hu/kiralyi-csalad/2025/...</td>\n",
       "      <td>kiralyi-csalad</td>\n",
       "      <td>None</td>\n",
       "      <td>2025-06-05 10:00:00</td>\n",
       "      <td>Szirénázó rendőrautók lepték el Katalin és Vil...</td>\n",
       "    </tr>\n",
       "    <tr>\n",
       "      <th>144</th>\n",
       "      <td>30417</td>\n",
       "      <td>Ezek a világ legszebb strandjai 2025-ben – Az ...</td>\n",
       "      <td>Idén a világ legszebb strandja Európában van –...</td>\n",
       "      <td>None</td>\n",
       "      <td>https://www.borsonline.hu/kulfoldi-utazas/2025...</td>\n",
       "      <td>kulfoldi-utazas</td>\n",
       "      <td>None</td>\n",
       "      <td>2025-06-05 09:45:00</td>\n",
       "      <td>Ezek a világ legszebb strandjai 2025-ben – Az ...</td>\n",
       "    </tr>\n",
       "    <tr>\n",
       "      <th>145</th>\n",
       "      <td>30418</td>\n",
       "      <td>Tömegkarambol bénította meg az M0-st, roncsok ...</td>\n",
       "      <td>Három személyautó ütközött egymásnak.</td>\n",
       "      <td>None</td>\n",
       "      <td>https://www.borsonline.hu/kek-hirek/2025/06/ut...</td>\n",
       "      <td>kek-hirek</td>\n",
       "      <td>None</td>\n",
       "      <td>2025-06-05 09:38:53</td>\n",
       "      <td>Tömegkarambol bénította meg az M0-st, roncsok ...</td>\n",
       "    </tr>\n",
       "  </tbody>\n",
       "</table>\n",
       "<p>146 rows × 9 columns</p>\n",
       "</div>"
      ]
     },
     "execution_count": 45,
     "metadata": {},
     "output_type": "execute_result"
    }
   ],
   "execution_count": 45
  },
  {
   "metadata": {
    "ExecuteTime": {
     "end_time": "2025-06-05T11:18:37.372158Z",
     "start_time": "2025-06-05T11:18:26.949185Z"
    }
   },
   "cell_type": "code",
   "source": [
    "import huspacy\n",
    "import spacy\n",
    "\n",
    "huspacy.download()\n",
    "nlp = spacy.load(\"hu_core_news_lg\")"
   ],
   "id": "7c95076be8b4b3cd",
   "outputs": [
    {
     "name": "stdout",
     "output_type": "stream",
     "text": [
      "['C:\\\\Users\\\\KomPhone\\\\projects\\\\ml\\\\cubix_ml_vizsga\\\\.venv\\\\Scripts\\\\python.exe', '-m', 'pip', 'install', 'hu_core_news_lg @ https://huggingface.co/huspacy/hu_core_news_lg/resolve/v3.8.0/hu_core_news_lg-any-py3-none-any.whl']\n"
     ]
    }
   ],
   "execution_count": 46
  },
  {
   "metadata": {
    "ExecuteTime": {
     "end_time": "2025-06-05T11:18:45.922961Z",
     "start_time": "2025-06-05T11:18:37.403827Z"
    }
   },
   "cell_type": "code",
   "source": [
    "def lemmatize(text):\n",
    "    doc = nlp(text.lower())\n",
    "    return ' '.join(\n",
    "        token.lemma_ for token in doc\n",
    "        if not token.is_stop and not token.is_punct and token.is_alpha\n",
    "    )\n",
    "\n",
    "df['lemmatized_text'] = df['text'].apply(lemmatize)\n"
   ],
   "id": "3bfa6904c6a24142",
   "outputs": [],
   "execution_count": 47
  },
  {
   "metadata": {
    "ExecuteTime": {
     "end_time": "2025-06-05T11:18:46.032499Z",
     "start_time": "2025-06-05T11:18:45.926972Z"
    }
   },
   "cell_type": "code",
   "source": [
    "from sqlalchemy.orm import Session\n",
    "from app.db.database import SessionLocal\n",
    "import app.models as models\n",
    "\n",
    "db: Session = SessionLocal()\n",
    "\n",
    "articles_to_update = (\n",
    "    db.query(models.Articles)\n",
    "    .filter(models.Articles.lemmatized_text.is_(None))\n",
    "    .all()\n",
    ")\n",
    "\n",
    "lemmatized_map = dict(zip(df['link'], df['lemmatized_text']))\n",
    "\n",
    "for article in articles_to_update:\n",
    "    if article.link in lemmatized_map:\n",
    "        article.lemmatized_text = lemmatized_map[article.link]\n",
    "\n",
    "db.commit()\n",
    "db.close()"
   ],
   "id": "8487486673f3c5ce",
   "outputs": [],
   "execution_count": 48
  },
  {
   "metadata": {},
   "cell_type": "markdown",
   "source": "## Kategoriák előkészítése",
   "id": "f8e505ab740381e9"
  },
  {
   "metadata": {
    "ExecuteTime": {
     "end_time": "2025-06-05T11:18:46.405425Z",
     "start_time": "2025-06-05T11:18:46.049496Z"
    }
   },
   "cell_type": "code",
   "source": "df = pd.read_sql(\"SELECT * FROM articles\", con=engine)",
   "id": "ace1a95cd04cbe84",
   "outputs": [],
   "execution_count": 49
  },
  {
   "metadata": {
    "ExecuteTime": {
     "end_time": "2025-06-05T11:18:46.435417Z",
     "start_time": "2025-06-05T11:18:46.421418Z"
    }
   },
   "cell_type": "code",
   "source": "df",
   "id": "e69bdcbdb6c3431b",
   "outputs": [
    {
     "data": {
      "text/plain": [
       "          id                                              title  \\\n",
       "0          1                           Satuba fogták a forintot   \n",
       "1          2  Visszadobta Zelenszkij az orosz békefeltételek...   \n",
       "2          3  Nyilatkozott a béketárgyalásokról Oroszország ...   \n",
       "3          4  Sínre tették von der Leyen újabb százmilliárdo...   \n",
       "4          5  Itt a friss előrejelzés: idén alig növekedhet ...   \n",
       "...      ...                                                ...   \n",
       "30413  30414  Hoppá: gyűrűt vett a Tankcsapda dobosa, közele...   \n",
       "30414  30415  Kőszeg látnivalói – Egy varázslatos város, aho...   \n",
       "30415  30416  Szirénázó rendőrautók lepték el Katalin és Vil...   \n",
       "30416  30417  Ezek a világ legszebb strandjai 2025-ben – Az ...   \n",
       "30417  30418  Tömegkarambol bénította meg az M0-st, roncsok ...   \n",
       "\n",
       "                                                 summary  \\\n",
       "0      Hétfőn egy enyhe erősödéssel zárt a forint, bá...   \n",
       "1      Tegnap béketárgyalást folytatott Oroszország é...   \n",
       "2      Telegram fiókján nyilatkozott a tegnapi, siker...   \n",
       "3      Jó úton haladnak afelé, hogy még az év vége el...   \n",
       "4      Az OECD friss előrejelzése szerint a magyar ga...   \n",
       "...                                                  ...   \n",
       "30413      Fejes Tamás 130 ezret fizetett a gyönyörűért.   \n",
       "30414  Kőszeg látnivalói között a középkori vár, a ha...   \n",
       "30415                       Az elkövetőt hamar elfogták.   \n",
       "30416  Idén a világ legszebb strandja Európában van –...   \n",
       "30417              Három személyautó ütközött egymásnak.   \n",
       "\n",
       "                                         lemmatized_text  \\\n",
       "0      satu fog forint hétfő enyhe erősödés zár forin...   \n",
       "1      visszadob zelenszkij orosz békefeltétel botrán...   \n",
       "2      nyilatkozik béketárgyalás oroszország erős emb...   \n",
       "3      sín tesz von der ley százmilliárdos keleti ügy...   \n",
       "4      friss előrejelzés idén alig növekedhet magyar ...   \n",
       "...                                                  ...   \n",
       "30413  hoppá gyűrű vesz tankcsapda dobos közeleg elje...   \n",
       "30414  kőszeg látnivaló varázslatos város ahova érdem...   \n",
       "30415  szirénázó rendőrautó lep katalin vilmos herceg...   \n",
       "30416  világ szép strand első hely európai strand vég...   \n",
       "30417  tömegkarambol bénít roncs ellát három személya...   \n",
       "\n",
       "                                                    link           category  \\\n",
       "0      https://www.portfolio.hu/deviza/20250603/satub...             Deviza   \n",
       "1      https://www.portfolio.hu/global/20250603/vissz...             Globál   \n",
       "2      https://www.portfolio.hu/global/20250603/nyila...             Globál   \n",
       "3      https://www.portfolio.hu/unios-forrasok/202506...     Uniós források   \n",
       "4      https://www.portfolio.hu/gazdasag/20250603/itt...           Gazdaság   \n",
       "...                                                  ...                ...   \n",
       "30413  https://www.borsonline.hu/magyar-sztarhirek/20...  magyar-sztarhirek   \n",
       "30414  https://www.borsonline.hu/belfoldi-utazas/2025...    belfoldi-utazas   \n",
       "30415  https://www.borsonline.hu/kiralyi-csalad/2025/...     kiralyi-csalad   \n",
       "30416  https://www.borsonline.hu/kulfoldi-utazas/2025...    kulfoldi-utazas   \n",
       "30417  https://www.borsonline.hu/kek-hirek/2025/06/ut...          kek-hirek   \n",
       "\n",
       "      predicted_category           published  \n",
       "0                   None 2025-06-03 08:30:00  \n",
       "1                   None 2025-06-03 08:25:00  \n",
       "2                   None 2025-06-03 08:25:00  \n",
       "3                   None 2025-06-03 08:22:00  \n",
       "4                   None 2025-06-03 08:09:00  \n",
       "...                  ...                 ...  \n",
       "30413               None 2025-06-05 10:20:00  \n",
       "30414               None 2025-06-05 10:15:00  \n",
       "30415               None 2025-06-05 10:00:00  \n",
       "30416               None 2025-06-05 09:45:00  \n",
       "30417               None 2025-06-05 09:38:53  \n",
       "\n",
       "[30418 rows x 8 columns]"
      ],
      "text/html": [
       "<div>\n",
       "<style scoped>\n",
       "    .dataframe tbody tr th:only-of-type {\n",
       "        vertical-align: middle;\n",
       "    }\n",
       "\n",
       "    .dataframe tbody tr th {\n",
       "        vertical-align: top;\n",
       "    }\n",
       "\n",
       "    .dataframe thead th {\n",
       "        text-align: right;\n",
       "    }\n",
       "</style>\n",
       "<table border=\"1\" class=\"dataframe\">\n",
       "  <thead>\n",
       "    <tr style=\"text-align: right;\">\n",
       "      <th></th>\n",
       "      <th>id</th>\n",
       "      <th>title</th>\n",
       "      <th>summary</th>\n",
       "      <th>lemmatized_text</th>\n",
       "      <th>link</th>\n",
       "      <th>category</th>\n",
       "      <th>predicted_category</th>\n",
       "      <th>published</th>\n",
       "    </tr>\n",
       "  </thead>\n",
       "  <tbody>\n",
       "    <tr>\n",
       "      <th>0</th>\n",
       "      <td>1</td>\n",
       "      <td>Satuba fogták a forintot</td>\n",
       "      <td>Hétfőn egy enyhe erősödéssel zárt a forint, bá...</td>\n",
       "      <td>satu fog forint hétfő enyhe erősödés zár forin...</td>\n",
       "      <td>https://www.portfolio.hu/deviza/20250603/satub...</td>\n",
       "      <td>Deviza</td>\n",
       "      <td>None</td>\n",
       "      <td>2025-06-03 08:30:00</td>\n",
       "    </tr>\n",
       "    <tr>\n",
       "      <th>1</th>\n",
       "      <td>2</td>\n",
       "      <td>Visszadobta Zelenszkij az orosz békefeltételek...</td>\n",
       "      <td>Tegnap béketárgyalást folytatott Oroszország é...</td>\n",
       "      <td>visszadob zelenszkij orosz békefeltétel botrán...</td>\n",
       "      <td>https://www.portfolio.hu/global/20250603/vissz...</td>\n",
       "      <td>Globál</td>\n",
       "      <td>None</td>\n",
       "      <td>2025-06-03 08:25:00</td>\n",
       "    </tr>\n",
       "    <tr>\n",
       "      <th>2</th>\n",
       "      <td>3</td>\n",
       "      <td>Nyilatkozott a béketárgyalásokról Oroszország ...</td>\n",
       "      <td>Telegram fiókján nyilatkozott a tegnapi, siker...</td>\n",
       "      <td>nyilatkozik béketárgyalás oroszország erős emb...</td>\n",
       "      <td>https://www.portfolio.hu/global/20250603/nyila...</td>\n",
       "      <td>Globál</td>\n",
       "      <td>None</td>\n",
       "      <td>2025-06-03 08:25:00</td>\n",
       "    </tr>\n",
       "    <tr>\n",
       "      <th>3</th>\n",
       "      <td>4</td>\n",
       "      <td>Sínre tették von der Leyen újabb százmilliárdo...</td>\n",
       "      <td>Jó úton haladnak afelé, hogy még az év vége el...</td>\n",
       "      <td>sín tesz von der ley százmilliárdos keleti ügy...</td>\n",
       "      <td>https://www.portfolio.hu/unios-forrasok/202506...</td>\n",
       "      <td>Uniós források</td>\n",
       "      <td>None</td>\n",
       "      <td>2025-06-03 08:22:00</td>\n",
       "    </tr>\n",
       "    <tr>\n",
       "      <th>4</th>\n",
       "      <td>5</td>\n",
       "      <td>Itt a friss előrejelzés: idén alig növekedhet ...</td>\n",
       "      <td>Az OECD friss előrejelzése szerint a magyar ga...</td>\n",
       "      <td>friss előrejelzés idén alig növekedhet magyar ...</td>\n",
       "      <td>https://www.portfolio.hu/gazdasag/20250603/itt...</td>\n",
       "      <td>Gazdaság</td>\n",
       "      <td>None</td>\n",
       "      <td>2025-06-03 08:09:00</td>\n",
       "    </tr>\n",
       "    <tr>\n",
       "      <th>...</th>\n",
       "      <td>...</td>\n",
       "      <td>...</td>\n",
       "      <td>...</td>\n",
       "      <td>...</td>\n",
       "      <td>...</td>\n",
       "      <td>...</td>\n",
       "      <td>...</td>\n",
       "      <td>...</td>\n",
       "    </tr>\n",
       "    <tr>\n",
       "      <th>30413</th>\n",
       "      <td>30414</td>\n",
       "      <td>Hoppá: gyűrűt vett a Tankcsapda dobosa, közele...</td>\n",
       "      <td>Fejes Tamás 130 ezret fizetett a gyönyörűért.</td>\n",
       "      <td>hoppá gyűrű vesz tankcsapda dobos közeleg elje...</td>\n",
       "      <td>https://www.borsonline.hu/magyar-sztarhirek/20...</td>\n",
       "      <td>magyar-sztarhirek</td>\n",
       "      <td>None</td>\n",
       "      <td>2025-06-05 10:20:00</td>\n",
       "    </tr>\n",
       "    <tr>\n",
       "      <th>30414</th>\n",
       "      <td>30415</td>\n",
       "      <td>Kőszeg látnivalói – Egy varázslatos város, aho...</td>\n",
       "      <td>Kőszeg látnivalói között a középkori vár, a ha...</td>\n",
       "      <td>kőszeg látnivaló varázslatos város ahova érdem...</td>\n",
       "      <td>https://www.borsonline.hu/belfoldi-utazas/2025...</td>\n",
       "      <td>belfoldi-utazas</td>\n",
       "      <td>None</td>\n",
       "      <td>2025-06-05 10:15:00</td>\n",
       "    </tr>\n",
       "    <tr>\n",
       "      <th>30415</th>\n",
       "      <td>30416</td>\n",
       "      <td>Szirénázó rendőrautók lepték el Katalin és Vil...</td>\n",
       "      <td>Az elkövetőt hamar elfogták.</td>\n",
       "      <td>szirénázó rendőrautó lep katalin vilmos herceg...</td>\n",
       "      <td>https://www.borsonline.hu/kiralyi-csalad/2025/...</td>\n",
       "      <td>kiralyi-csalad</td>\n",
       "      <td>None</td>\n",
       "      <td>2025-06-05 10:00:00</td>\n",
       "    </tr>\n",
       "    <tr>\n",
       "      <th>30416</th>\n",
       "      <td>30417</td>\n",
       "      <td>Ezek a világ legszebb strandjai 2025-ben – Az ...</td>\n",
       "      <td>Idén a világ legszebb strandja Európában van –...</td>\n",
       "      <td>világ szép strand első hely európai strand vég...</td>\n",
       "      <td>https://www.borsonline.hu/kulfoldi-utazas/2025...</td>\n",
       "      <td>kulfoldi-utazas</td>\n",
       "      <td>None</td>\n",
       "      <td>2025-06-05 09:45:00</td>\n",
       "    </tr>\n",
       "    <tr>\n",
       "      <th>30417</th>\n",
       "      <td>30418</td>\n",
       "      <td>Tömegkarambol bénította meg az M0-st, roncsok ...</td>\n",
       "      <td>Három személyautó ütközött egymásnak.</td>\n",
       "      <td>tömegkarambol bénít roncs ellát három személya...</td>\n",
       "      <td>https://www.borsonline.hu/kek-hirek/2025/06/ut...</td>\n",
       "      <td>kek-hirek</td>\n",
       "      <td>None</td>\n",
       "      <td>2025-06-05 09:38:53</td>\n",
       "    </tr>\n",
       "  </tbody>\n",
       "</table>\n",
       "<p>30418 rows × 8 columns</p>\n",
       "</div>"
      ]
     },
     "execution_count": 50,
     "metadata": {},
     "output_type": "execute_result"
    }
   ],
   "execution_count": 50
  },
  {
   "metadata": {
    "ExecuteTime": {
     "end_time": "2025-06-05T11:18:46.498066Z",
     "start_time": "2025-06-05T11:18:46.483063Z"
    }
   },
   "cell_type": "code",
   "source": [
    "df.drop([\n",
    "    \"id\",\n",
    "    \"predicted_category\",\n",
    "    \"published\",\n",
    "    \"link\"\n",
    "], axis=1, inplace=True)"
   ],
   "id": "8d3ebd42ba27f445",
   "outputs": [],
   "execution_count": 51
  },
  {
   "metadata": {
    "ExecuteTime": {
     "end_time": "2025-06-05T11:18:46.559066Z",
     "start_time": "2025-06-05T11:18:46.530067Z"
    }
   },
   "cell_type": "code",
   "source": [
    "import unicodedata\n",
    "\n",
    "def remove_accents(text):\n",
    "    if isinstance(text, str):\n",
    "        nfkd_form = unicodedata.normalize('NFKD', text)\n",
    "        return ''.join([c for c in nfkd_form if not unicodedata.combining(c)]).lower()\n",
    "    return text\n",
    "\n",
    "df['category'] = df['category'].apply(remove_accents)"
   ],
   "id": "5389b423ff8862fb",
   "outputs": [],
   "execution_count": 52
  },
  {
   "metadata": {
    "ExecuteTime": {
     "end_time": "2025-06-05T11:18:46.589604Z",
     "start_time": "2025-06-05T11:18:46.576223Z"
    }
   },
   "cell_type": "code",
   "source": "df.dropna(inplace=True)",
   "id": "5ea5c1af60d00cef",
   "outputs": [],
   "execution_count": 53
  },
  {
   "metadata": {},
   "cell_type": "markdown",
   "source": "### Kategoriák összevonása",
   "id": "8713688876b5fe84"
  },
  {
   "metadata": {
    "ExecuteTime": {
     "end_time": "2025-06-05T11:18:46.637379Z",
     "start_time": "2025-06-05T11:18:46.606379Z"
    }
   },
   "cell_type": "code",
   "source": [
    "df['category'] = df['category'].replace({\n",
    "    'global': 'kulfold',\n",
    "    'hirtvkulfold': 'kulfold',\n",
    "    'kulpol': 'kulfold',\n",
    "    'nagyvilag': 'kulfold',\n",
    "    'vilag': 'kulfold',\n",
    "    'celeb': 'bulvar',\n",
    "    'sztarok': 'bulvar',\n",
    "    'sztarvilag': 'bulvar',\n",
    "    'kultur': 'kultura',\n",
    "    'teve': 'bulvar',\n",
    "    'techtud': 'tudomany',\n",
    "    'techbazis': 'tudomany',\n",
    "    'tech-tudomany': 'tudomany',\n",
    "    'tech': 'tudomany',\n",
    "    'itthon': 'belfold',\n",
    "    'belpol': 'belfold',\n",
    "    'politika': 'belfold',\n",
    "    'nemzetkozi-gazdasag': 'gazdasag',\n",
    "    'uzlet': 'gazdasag',\n",
    "    'penz': 'gazdasag',\n",
    "    'bank': 'gazdasag',\n",
    "    'befektetes': 'gazdasag',\n",
    "    'deviza': 'gazdasag',\n",
    "    'vilaggazdasag-magyar-gazdasag': 'gazdasag',\n",
    "    'elet-stilus': 'eletmod',\n",
    "    'ferfiaknak': 'eletmod',\n",
    "    'test-es-lelek': 'eletmod',\n",
    "    'bunugyek': 'baleset-bunugy',\n",
    "    'futball': 'sport',\n",
    "    'foci': 'sport',\n",
    "    'szorakozas': 'bulvar',\n",
    "})"
   ],
   "id": "35f693629beb96be",
   "outputs": [],
   "execution_count": 54
  },
  {
   "metadata": {},
   "cell_type": "markdown",
   "source": [
    "### Kategoriák eltávolítása\n",
    "Értelmetlen valós információt nem tartalmazó kategoriák letávolítása"
   ],
   "id": "807b1b8b16c4ddfc"
  },
  {
   "metadata": {
    "ExecuteTime": {
     "end_time": "2025-06-05T11:18:46.668801Z",
     "start_time": "2025-06-05T11:18:46.653782Z"
    }
   },
   "cell_type": "code",
   "source": "df = df[~df['category'].isin(['2023', 'hirek', 'hirado', 'aktualis', 'mindekozben'])]",
   "id": "571404211e17efd0",
   "outputs": [],
   "execution_count": 55
  },
  {
   "metadata": {},
   "cell_type": "markdown",
   "source": "Kategoriák szűrése",
   "id": "9686a4a85c0db7fb"
  },
  {
   "metadata": {
    "ExecuteTime": {
     "end_time": "2025-06-05T11:18:46.699793Z",
     "start_time": "2025-06-05T11:18:46.685556Z"
    }
   },
   "cell_type": "code",
   "source": [
    "category_counts = df['category'].value_counts()\n",
    "\n",
    "valid_categories = category_counts[category_counts >= 300].index\n",
    "\n",
    "df = df[df['category'].isin(valid_categories)]\n"
   ],
   "id": "9ef9a09a78f91974",
   "outputs": [],
   "execution_count": 56
  },
  {
   "metadata": {
    "ExecuteTime": {
     "end_time": "2025-06-05T11:18:46.824528Z",
     "start_time": "2025-06-05T11:18:46.715725Z"
    }
   },
   "cell_type": "code",
   "source": [
    "import matplotlib.pyplot as plt\n",
    "\n",
    "top_categories = df['category'].value_counts().nlargest(20)\n",
    "\n",
    "plt.figure(figsize=(10, 6))\n",
    "ax = top_categories.plot(kind='bar')\n",
    "\n",
    "plt.title('Leggyakoribb kategoriák')\n",
    "plt.xlabel('Kategória')\n",
    "plt.ylabel('Darabszám')\n",
    "plt.xticks(rotation=45)\n",
    "plt.tight_layout()\n",
    "\n",
    "for i, value in enumerate(top_categories.values):\n",
    "    ax.text(i, value + 5, str(value), ha='center', va='bottom', fontsize=8)\n",
    "\n",
    "plt.show()"
   ],
   "id": "e254fb4a54a14794",
   "outputs": [
    {
     "data": {
      "text/plain": [
       "<Figure size 1000x600 with 1 Axes>"
      ],
      "image/png": "[encoded data removed]"
     },
     "metadata": {},
     "output_type": "display_data"
    }
   ],
   "execution_count": 57
  },
  {
   "metadata": {
    "ExecuteTime": {
     "end_time": "2025-06-05T11:18:46.855531Z",
     "start_time": "2025-06-05T11:18:46.841529Z"
    }
   },
   "cell_type": "code",
   "source": "df",
   "id": "130b116f2510deb1",
   "outputs": [
    {
     "data": {
      "text/plain": [
       "                                                   title  \\\n",
       "0                               Satuba fogták a forintot   \n",
       "1      Visszadobta Zelenszkij az orosz békefeltételek...   \n",
       "2      Nyilatkozott a béketárgyalásokról Oroszország ...   \n",
       "4      Itt a friss előrejelzés: idén alig növekedhet ...   \n",
       "5      Megnevezték az oroszok a bombázóflottát megbén...   \n",
       "...                                                  ...   \n",
       "30399  Mi történt a honvédelmi és rendészeti bizottsá...   \n",
       "30400  „Aláírtam” – Orbán Viktor rejtélyes közleménny...   \n",
       "30401  Mindenkit lemészárol a John Wick-széria Baleri...   \n",
       "30404  Eltűnt a képernyőről Erős Antónia! Most kiderü...   \n",
       "30408  Orbán Viktor: az európaiak többsége nem támoga...   \n",
       "\n",
       "                                                 summary  \\\n",
       "0      Hétfőn egy enyhe erősödéssel zárt a forint, bá...   \n",
       "1      Tegnap béketárgyalást folytatott Oroszország é...   \n",
       "2      Telegram fiókján nyilatkozott a tegnapi, siker...   \n",
       "4      Az OECD friss előrejelzése szerint a magyar ga...   \n",
       "5      Egy Artyom Timofejev nevű ukrán férfit gyanúsí...   \n",
       "...                                                  ...   \n",
       "30399  Kósa Lajos országgyűlési képviselő június 5-re...   \n",
       "30400  Orbán Viktor miniszterelnök csütörtökön bejele...   \n",
       "30401  A John Wick széria az utóbbi évek során az akc...   \n",
       "30404  Napok óta nem láthatták a nézők Erős Antóniát ...   \n",
       "30408  A háborús politika csak rosszat tartogat számu...   \n",
       "\n",
       "                                         lemmatized_text  category  \n",
       "0      satu fog forint hétfő enyhe erősödés zár forin...  gazdasag  \n",
       "1      visszadob zelenszkij orosz békefeltétel botrán...   kulfold  \n",
       "2      nyilatkozik béketárgyalás oroszország erős emb...   kulfold  \n",
       "4      friss előrejelzés idén alig növekedhet magyar ...  gazdasag  \n",
       "5      megnevez orosz bombázóflotta megbénító támadás...   kulfold  \n",
       "...                                                  ...       ...  \n",
       "30399  történik honvédelmi rendészeti bizottság rendk...   belfold  \n",
       "30400  aláír orbán viktor rejtélyes közlemény jelentk...   belfold  \n",
       "30401  mindenki lemészárol john baleriná női főszerep...    bulvar  \n",
       "30404  eltűnik képernyő erős antónia kiderül látható ...    bulvar  \n",
       "30408  orbán viktor európai többség támogat ukrajna g...   belfold  \n",
       "\n",
       "[19832 rows x 4 columns]"
      ],
      "text/html": [
       "<div>\n",
       "<style scoped>\n",
       "    .dataframe tbody tr th:only-of-type {\n",
       "        vertical-align: middle;\n",
       "    }\n",
       "\n",
       "    .dataframe tbody tr th {\n",
       "        vertical-align: top;\n",
       "    }\n",
       "\n",
       "    .dataframe thead th {\n",
       "        text-align: right;\n",
       "    }\n",
       "</style>\n",
       "<table border=\"1\" class=\"dataframe\">\n",
       "  <thead>\n",
       "    <tr style=\"text-align: right;\">\n",
       "      <th></th>\n",
       "      <th>title</th>\n",
       "      <th>summary</th>\n",
       "      <th>lemmatized_text</th>\n",
       "      <th>category</th>\n",
       "    </tr>\n",
       "  </thead>\n",
       "  <tbody>\n",
       "    <tr>\n",
       "      <th>0</th>\n",
       "      <td>Satuba fogták a forintot</td>\n",
       "      <td>Hétfőn egy enyhe erősödéssel zárt a forint, bá...</td>\n",
       "      <td>satu fog forint hétfő enyhe erősödés zár forin...</td>\n",
       "      <td>gazdasag</td>\n",
       "    </tr>\n",
       "    <tr>\n",
       "      <th>1</th>\n",
       "      <td>Visszadobta Zelenszkij az orosz békefeltételek...</td>\n",
       "      <td>Tegnap béketárgyalást folytatott Oroszország é...</td>\n",
       "      <td>visszadob zelenszkij orosz békefeltétel botrán...</td>\n",
       "      <td>kulfold</td>\n",
       "    </tr>\n",
       "    <tr>\n",
       "      <th>2</th>\n",
       "      <td>Nyilatkozott a béketárgyalásokról Oroszország ...</td>\n",
       "      <td>Telegram fiókján nyilatkozott a tegnapi, siker...</td>\n",
       "      <td>nyilatkozik béketárgyalás oroszország erős emb...</td>\n",
       "      <td>kulfold</td>\n",
       "    </tr>\n",
       "    <tr>\n",
       "      <th>4</th>\n",
       "      <td>Itt a friss előrejelzés: idén alig növekedhet ...</td>\n",
       "      <td>Az OECD friss előrejelzése szerint a magyar ga...</td>\n",
       "      <td>friss előrejelzés idén alig növekedhet magyar ...</td>\n",
       "      <td>gazdasag</td>\n",
       "    </tr>\n",
       "    <tr>\n",
       "      <th>5</th>\n",
       "      <td>Megnevezték az oroszok a bombázóflottát megbén...</td>\n",
       "      <td>Egy Artyom Timofejev nevű ukrán férfit gyanúsí...</td>\n",
       "      <td>megnevez orosz bombázóflotta megbénító támadás...</td>\n",
       "      <td>kulfold</td>\n",
       "    </tr>\n",
       "    <tr>\n",
       "      <th>...</th>\n",
       "      <td>...</td>\n",
       "      <td>...</td>\n",
       "      <td>...</td>\n",
       "      <td>...</td>\n",
       "    </tr>\n",
       "    <tr>\n",
       "      <th>30399</th>\n",
       "      <td>Mi történt a honvédelmi és rendészeti bizottsá...</td>\n",
       "      <td>Kósa Lajos országgyűlési képviselő június 5-re...</td>\n",
       "      <td>történik honvédelmi rendészeti bizottság rendk...</td>\n",
       "      <td>belfold</td>\n",
       "    </tr>\n",
       "    <tr>\n",
       "      <th>30400</th>\n",
       "      <td>„Aláírtam” – Orbán Viktor rejtélyes közleménny...</td>\n",
       "      <td>Orbán Viktor miniszterelnök csütörtökön bejele...</td>\n",
       "      <td>aláír orbán viktor rejtélyes közlemény jelentk...</td>\n",
       "      <td>belfold</td>\n",
       "    </tr>\n",
       "    <tr>\n",
       "      <th>30401</th>\n",
       "      <td>Mindenkit lemészárol a John Wick-széria Baleri...</td>\n",
       "      <td>A John Wick széria az utóbbi évek során az akc...</td>\n",
       "      <td>mindenki lemészárol john baleriná női főszerep...</td>\n",
       "      <td>bulvar</td>\n",
       "    </tr>\n",
       "    <tr>\n",
       "      <th>30404</th>\n",
       "      <td>Eltűnt a képernyőről Erős Antónia! Most kiderü...</td>\n",
       "      <td>Napok óta nem láthatták a nézők Erős Antóniát ...</td>\n",
       "      <td>eltűnik képernyő erős antónia kiderül látható ...</td>\n",
       "      <td>bulvar</td>\n",
       "    </tr>\n",
       "    <tr>\n",
       "      <th>30408</th>\n",
       "      <td>Orbán Viktor: az európaiak többsége nem támoga...</td>\n",
       "      <td>A háborús politika csak rosszat tartogat számu...</td>\n",
       "      <td>orbán viktor európai többség támogat ukrajna g...</td>\n",
       "      <td>belfold</td>\n",
       "    </tr>\n",
       "  </tbody>\n",
       "</table>\n",
       "<p>19832 rows × 4 columns</p>\n",
       "</div>"
      ]
     },
     "execution_count": 58,
     "metadata": {},
     "output_type": "execute_result"
    }
   ],
   "execution_count": 58
  },
  {
   "metadata": {},
   "cell_type": "markdown",
   "source": "## Kategoria predikció XGBoost-tel",
   "id": "f9b7b9f54e3fa75f"
  },
  {
   "metadata": {
    "ExecuteTime": {
     "end_time": "2025-06-05T11:18:48.762687Z",
     "start_time": "2025-06-05T11:18:46.903687Z"
    }
   },
   "cell_type": "code",
   "source": [
    "from sklearn.feature_extraction.text import TfidfVectorizer\n",
    "\n",
    "vectorizer = TfidfVectorizer(max_features=10000, ngram_range=(1, 2))\n",
    "df['combined'] = df['summary'] + ' ' + df['lemmatized_text']\n",
    "X = vectorizer.fit_transform(df['combined'])"
   ],
   "id": "fcebfbb9c4cddcb5",
   "outputs": [],
   "execution_count": 59
  },
  {
   "metadata": {
    "ExecuteTime": {
     "end_time": "2025-06-05T11:18:48.809651Z",
     "start_time": "2025-06-05T11:18:48.794648Z"
    }
   },
   "cell_type": "code",
   "source": [
    "from sklearn.preprocessing import LabelEncoder\n",
    "\n",
    "le = LabelEncoder()\n",
    "y = le.fit_transform(df['category'])\n"
   ],
   "id": "db93157bf6204f8",
   "outputs": [],
   "execution_count": 60
  },
  {
   "metadata": {
    "ExecuteTime": {
     "end_time": "2025-06-05T11:18:48.839901Z",
     "start_time": "2025-06-05T11:18:48.830918Z"
    }
   },
   "cell_type": "code",
   "source": [
    "from sklearn.utils.class_weight import compute_class_weight\n",
    "import numpy as np\n",
    "\n",
    "classes = np.unique(y)\n",
    "class_weights = compute_class_weight(class_weight='balanced', classes=classes, y=y)\n",
    "weight_dict = dict(zip(classes, class_weights))\n",
    "\n",
    "# Minden sorhoz hozzárendeljük a megfelelő súlyt\n",
    "sample_weights = np.array([weight_dict[label] for label in y])\n"
   ],
   "id": "e54c4c865196ac00",
   "outputs": [],
   "execution_count": 61
  },
  {
   "metadata": {
    "ExecuteTime": {
     "end_time": "2025-06-05T11:18:48.870416Z",
     "start_time": "2025-06-05T11:18:48.856904Z"
    }
   },
   "cell_type": "code",
   "source": [
    "from sklearn.model_selection import train_test_split\n",
    "\n",
    "X_train, X_test, y_train, y_test, w_train, w_test = train_test_split(\n",
    "    X, y, sample_weights, test_size=0.2, stratify=y, random_state=42\n",
    ")\n"
   ],
   "id": "1da38ebad31e6478",
   "outputs": [],
   "execution_count": 62
  },
  {
   "metadata": {
    "ExecuteTime": {
     "end_time": "2025-06-05T11:18:48.900375Z",
     "start_time": "2025-06-05T11:18:48.886370Z"
    }
   },
   "cell_type": "code",
   "source": [
    "import optuna\n",
    "from sklearn.metrics import f1_score\n",
    "from xgboost import XGBClassifier\n",
    "from sklearn.metrics import classification_report\n",
    "\n",
    "def objective(trial):\n",
    "    params = {\n",
    "        'objective': 'multi:softmax',\n",
    "        'num_class': len(np.unique(y_train)),\n",
    "        'eval_metric': 'mlogloss',\n",
    "        'n_jobs': -1,\n",
    "        'verbosity': 0,\n",
    "        'n_estimators': trial.suggest_int('n_estimators', 100, 500),\n",
    "        'max_depth': trial.suggest_int('max_depth', 4, 12),\n",
    "        'learning_rate': trial.suggest_float('learning_rate', 0.01, 0.3),\n",
    "        'subsample': trial.suggest_float('subsample', 0.7, 1.0),\n",
    "        'colsample_bytree': trial.suggest_float('colsample_bytree', 0.7, 1.0),\n",
    "        'gamma': trial.suggest_int('gamma', 0, 10)\n",
    "    }\n",
    "\n",
    "    model = XGBClassifier(**params)\n",
    "    model.fit(X_train, y_train, sample_weight=w_train)\n",
    "\n",
    "    y_pred = model.predict(X_test)\n",
    "    return f1_score(y_test, y_pred, average='macro')\n"
   ],
   "id": "86c87c4859a4a0cb",
   "outputs": [],
   "execution_count": 63
  },
  {
   "metadata": {
    "ExecuteTime": {
     "end_time": "2025-06-05T11:27:58.658801Z",
     "start_time": "2025-06-05T11:18:48.916374Z"
    }
   },
   "cell_type": "code",
   "source": [
    "study = optuna.create_study(direction='maximize')\n",
    "study.optimize(objective, n_trials=10)  # 10\n"
   ],
   "id": "1f02b3aef8cabebf",
   "outputs": [
    {
     "name": "stderr",
     "output_type": "stream",
     "text": [
      "[I 2025-06-05 13:18:48,918] A new study created in memory with name: no-name-5f54fb0a-a67d-455f-b96d-1a03567553ba\n",
      "[I 2025-06-05 13:19:29,297] Trial 0 finished with value: 0.6691419302389633 and parameters: {'n_estimators': 470, 'max_depth': 5, 'learning_rate': 0.2229857374666386, 'subsample': 0.8409858393217391, 'colsample_bytree': 0.894378413140179, 'gamma': 6}. Best is trial 0 with value: 0.6691419302389633.\n",
      "[I 2025-06-05 13:20:03,259] Trial 1 finished with value: 0.6571100513786537 and parameters: {'n_estimators': 395, 'max_depth': 9, 'learning_rate': 0.17836583239624695, 'subsample': 0.9749818990470858, 'colsample_bytree': 0.9349671503180793, 'gamma': 9}. Best is trial 0 with value: 0.6691419302389633.\n",
      "[I 2025-06-05 13:21:36,068] Trial 2 finished with value: 0.6890114747345218 and parameters: {'n_estimators': 486, 'max_depth': 5, 'learning_rate': 0.0562536435009605, 'subsample': 0.9782403384529921, 'colsample_bytree': 0.9234679338663868, 'gamma': 0}. Best is trial 2 with value: 0.6890114747345218.\n",
      "[I 2025-06-05 13:22:14,652] Trial 3 finished with value: 0.6353395278306553 and parameters: {'n_estimators': 275, 'max_depth': 4, 'learning_rate': 0.028383999039074563, 'subsample': 0.8457166241582788, 'colsample_bytree': 0.9986401010410169, 'gamma': 10}. Best is trial 2 with value: 0.6890114747345218.\n",
      "[I 2025-06-05 13:22:58,662] Trial 4 finished with value: 0.688679271335753 and parameters: {'n_estimators': 358, 'max_depth': 4, 'learning_rate': 0.1185350868854842, 'subsample': 0.9055192451430797, 'colsample_bytree': 0.7035056445710796, 'gamma': 1}. Best is trial 2 with value: 0.6890114747345218.\n",
      "[I 2025-06-05 13:23:36,196] Trial 5 finished with value: 0.6841548027974178 and parameters: {'n_estimators': 433, 'max_depth': 5, 'learning_rate': 0.25363172843533516, 'subsample': 0.9459977697953197, 'colsample_bytree': 0.8330869750514434, 'gamma': 4}. Best is trial 2 with value: 0.6890114747345218.\n",
      "[I 2025-06-05 13:24:38,643] Trial 6 finished with value: 0.646844581694598 and parameters: {'n_estimators': 386, 'max_depth': 12, 'learning_rate': 0.02915116034272415, 'subsample': 0.7264646518652194, 'colsample_bytree': 0.7896787868279457, 'gamma': 10}. Best is trial 2 with value: 0.6890114747345218.\n",
      "[I 2025-06-05 13:25:12,568] Trial 7 finished with value: 0.6779169763310413 and parameters: {'n_estimators': 385, 'max_depth': 10, 'learning_rate': 0.2837783554885043, 'subsample': 0.8416486026088299, 'colsample_bytree': 0.835771826441117, 'gamma': 5}. Best is trial 2 with value: 0.6890114747345218.\n",
      "[I 2025-06-05 13:27:21,160] Trial 8 finished with value: 0.6618824483737364 and parameters: {'n_estimators': 467, 'max_depth': 10, 'learning_rate': 0.014847823177153104, 'subsample': 0.9688369487726913, 'colsample_bytree': 0.7114356127404154, 'gamma': 4}. Best is trial 2 with value: 0.6890114747345218.\n",
      "[I 2025-06-05 13:27:58,652] Trial 9 finished with value: 0.6911132531636626 and parameters: {'n_estimators': 301, 'max_depth': 9, 'learning_rate': 0.24033105011399966, 'subsample': 0.8219754756042266, 'colsample_bytree': 0.9863041453317289, 'gamma': 3}. Best is trial 9 with value: 0.6911132531636626.\n"
     ]
    }
   ],
   "execution_count": 64
  },
  {
   "metadata": {
    "ExecuteTime": {
     "end_time": "2025-06-05T11:27:58.736640Z",
     "start_time": "2025-06-05T11:27:58.723639Z"
    }
   },
   "cell_type": "code",
   "source": "# study.stop()",
   "id": "a6a1881c0f75191a",
   "outputs": [],
   "execution_count": 65
  },
  {
   "metadata": {
    "ExecuteTime": {
     "end_time": "2025-06-05T11:27:58.752640Z",
     "start_time": "2025-06-05T11:27:58.742638Z"
    }
   },
   "cell_type": "code",
   "source": [
    "print(\"Best trial:\")\n",
    "print(\"  Value (macro F1):\", study.best_value)\n",
    "print(\"  Params:\", study.best_params)"
   ],
   "id": "9005c2aaa0926b90",
   "outputs": [
    {
     "name": "stdout",
     "output_type": "stream",
     "text": [
      "Best trial:\n",
      "  Value (macro F1): 0.6911132531636626\n",
      "  Params: {'n_estimators': 301, 'max_depth': 9, 'learning_rate': 0.24033105011399966, 'subsample': 0.8219754756042266, 'colsample_bytree': 0.9863041453317289, 'gamma': 3}\n"
     ]
    }
   ],
   "execution_count": 66
  },
  {
   "metadata": {
    "ExecuteTime": {
     "end_time": "2025-06-05T11:28:35.818029Z",
     "start_time": "2025-06-05T11:27:58.783639Z"
    }
   },
   "cell_type": "code",
   "source": [
    "best_model = XGBClassifier(\n",
    "    **study.best_params,\n",
    "    objective='multi:softmax',\n",
    "    num_class=len(np.unique(y_train)),\n",
    "    eval_metric='mlogloss',\n",
    "    n_jobs=-1\n",
    ")\n",
    "\n",
    "best_model.fit(X_train, y_train, sample_weight=w_train)"
   ],
   "id": "938162c771bfac23",
   "outputs": [
    {
     "data": {
      "text/plain": [
       "XGBClassifier(base_score=None, booster=None, callbacks=None,\n",
       "              colsample_bylevel=None, colsample_bynode=None,\n",
       "              colsample_bytree=0.9863041453317289, device=None,\n",
       "              early_stopping_rounds=None, enable_categorical=False,\n",
       "              eval_metric='mlogloss', feature_types=None, feature_weights=None,\n",
       "              gamma=3, grow_policy=None, importance_type=None,\n",
       "              interaction_constraints=None, learning_rate=0.24033105011399966,\n",
       "              max_bin=None, max_cat_threshold=None, max_cat_to_onehot=None,\n",
       "              max_delta_step=None, max_depth=9, max_leaves=None,\n",
       "              min_child_weight=None, missing=nan, monotone_constraints=None,\n",
       "              multi_strategy=None, n_estimators=301, n_jobs=-1, num_class=8, ...)"
      ],
      "text/html": [
       "<style>#sk-container-id-2 {color: black;}#sk-container-id-2 pre{padding: 0;}#sk-container-id-2 div.sk-toggleable {background-color: white;}#sk-container-id-2 label.sk-toggleable__label {cursor: pointer;display: block;width: 100%;margin-bottom: 0;padding: 0.3em;box-sizing: border-box;text-align: center;}#sk-container-id-2 label.sk-toggleable__label-arrow:before {content: \"▸\";float: left;margin-right: 0.25em;color: #696969;}#sk-container-id-2 label.sk-toggleable__label-arrow:hover:before {color: black;}#sk-container-id-2 div.sk-estimator:hover label.sk-toggleable__label-arrow:before {color: black;}#sk-container-id-2 div.sk-toggleable__content {max-height: 0;max-width: 0;overflow: hidden;text-align: left;background-color: #f0f8ff;}#sk-container-id-2 div.sk-toggleable__content pre {margin: 0.2em;color: black;border-radius: 0.25em;background-color: #f0f8ff;}#sk-container-id-2 input.sk-toggleable__control:checked~div.sk-toggleable__content {max-height: 200px;max-width: 100%;overflow: auto;}#sk-container-id-2 input.sk-toggleable__control:checked~label.sk-toggleable__label-arrow:before {content: \"▾\";}#sk-container-id-2 div.sk-estimator input.sk-toggleable__control:checked~label.sk-toggleable__label {background-color: #d4ebff;}#sk-container-id-2 div.sk-label input.sk-toggleable__control:checked~label.sk-toggleable__label {background-color: #d4ebff;}#sk-container-id-2 input.sk-hidden--visually {border: 0;clip: rect(1px 1px 1px 1px);clip: rect(1px, 1px, 1px, 1px);height: 1px;margin: -1px;overflow: hidden;padding: 0;position: absolute;width: 1px;}#sk-container-id-2 div.sk-estimator {font-family: monospace;background-color: #f0f8ff;border: 1px dotted black;border-radius: 0.25em;box-sizing: border-box;margin-bottom: 0.5em;}#sk-container-id-2 div.sk-estimator:hover {background-color: #d4ebff;}#sk-container-id-2 div.sk-parallel-item::after {content: \"\";width: 100%;border-bottom: 1px solid gray;flex-grow: 1;}#sk-container-id-2 div.sk-label:hover label.sk-toggleable__label {background-color: #d4ebff;}#sk-container-id-2 div.sk-serial::before {content: \"\";position: absolute;border-left: 1px solid gray;box-sizing: border-box;top: 0;bottom: 0;left: 50%;z-index: 0;}#sk-container-id-2 div.sk-serial {display: flex;flex-direction: column;align-items: center;background-color: white;padding-right: 0.2em;padding-left: 0.2em;position: relative;}#sk-container-id-2 div.sk-item {position: relative;z-index: 1;}#sk-container-id-2 div.sk-parallel {display: flex;align-items: stretch;justify-content: center;background-color: white;position: relative;}#sk-container-id-2 div.sk-item::before, #sk-container-id-2 div.sk-parallel-item::before {content: \"\";position: absolute;border-left: 1px solid gray;box-sizing: border-box;top: 0;bottom: 0;left: 50%;z-index: -1;}#sk-container-id-2 div.sk-parallel-item {display: flex;flex-direction: column;z-index: 1;position: relative;background-color: white;}#sk-container-id-2 div.sk-parallel-item:first-child::after {align-self: flex-end;width: 50%;}#sk-container-id-2 div.sk-parallel-item:last-child::after {align-self: flex-start;width: 50%;}#sk-container-id-2 div.sk-parallel-item:only-child::after {width: 0;}#sk-container-id-2 div.sk-dashed-wrapped {border: 1px dashed gray;margin: 0 0.4em 0.5em 0.4em;box-sizing: border-box;padding-bottom: 0.4em;background-color: white;}#sk-container-id-2 div.sk-label label {font-family: monospace;font-weight: bold;display: inline-block;line-height: 1.2em;}#sk-container-id-2 div.sk-label-container {text-align: center;}#sk-container-id-2 div.sk-container {/* jupyter's `normalize.less` sets `[hidden] { display: none; }` but bootstrap.min.css set `[hidden] { display: none !important; }` so we also need the `!important` here to be able to override the default hidden behavior on the sphinx rendered scikit-learn.org. See: https://github.com/scikit-learn/scikit-learn/issues/21755 */display: inline-block !important;position: relative;}#sk-container-id-2 div.sk-text-repr-fallback {display: none;}</style><div id=\"sk-container-id-2\" class=\"sk-top-container\"><div class=\"sk-text-repr-fallback\"><pre>XGBClassifier(base_score=None, booster=None, callbacks=None,\n",
       "              colsample_bylevel=None, colsample_bynode=None,\n",
       "              colsample_bytree=0.9863041453317289, device=None,\n",
       "              early_stopping_rounds=None, enable_categorical=False,\n",
       "              eval_metric=&#x27;mlogloss&#x27;, feature_types=None, feature_weights=None,\n",
       "              gamma=3, grow_policy=None, importance_type=None,\n",
       "              interaction_constraints=None, learning_rate=0.24033105011399966,\n",
       "              max_bin=None, max_cat_threshold=None, max_cat_to_onehot=None,\n",
       "              max_delta_step=None, max_depth=9, max_leaves=None,\n",
       "              min_child_weight=None, missing=nan, monotone_constraints=None,\n",
       "              multi_strategy=None, n_estimators=301, n_jobs=-1, num_class=8, ...)</pre><b>In a Jupyter environment, please rerun this cell to show the HTML representation or trust the notebook. <br />On GitHub, the HTML representation is unable to render, please try loading this page with nbviewer.org.</b></div><div class=\"sk-container\" hidden><div class=\"sk-item\"><div class=\"sk-estimator sk-toggleable\"><input class=\"sk-toggleable__control sk-hidden--visually\" id=\"sk-estimator-id-2\" type=\"checkbox\" checked><label for=\"sk-estimator-id-2\" class=\"sk-toggleable__label sk-toggleable__label-arrow\">XGBClassifier</label><div class=\"sk-toggleable__content\"><pre>XGBClassifier(base_score=None, booster=None, callbacks=None,\n",
       "              colsample_bylevel=None, colsample_bynode=None,\n",
       "              colsample_bytree=0.9863041453317289, device=None,\n",
       "              early_stopping_rounds=None, enable_categorical=False,\n",
       "              eval_metric=&#x27;mlogloss&#x27;, feature_types=None, feature_weights=None,\n",
       "              gamma=3, grow_policy=None, importance_type=None,\n",
       "              interaction_constraints=None, learning_rate=0.24033105011399966,\n",
       "              max_bin=None, max_cat_threshold=None, max_cat_to_onehot=None,\n",
       "              max_delta_step=None, max_depth=9, max_leaves=None,\n",
       "              min_child_weight=None, missing=nan, monotone_constraints=None,\n",
       "              multi_strategy=None, n_estimators=301, n_jobs=-1, num_class=8, ...)</pre></div></div></div></div></div>"
      ]
     },
     "execution_count": 67,
     "metadata": {},
     "output_type": "execute_result"
    }
   ],
   "execution_count": 67
  },
  {
   "metadata": {
    "ExecuteTime": {
     "end_time": "2025-06-05T11:28:35.896594Z",
     "start_time": "2025-06-05T11:28:35.850595Z"
    }
   },
   "cell_type": "code",
   "source": [
    "y_pred = best_model.predict(X_test)\n",
    "print(classification_report(y_test, y_pred, target_names=le.classes_))"
   ],
   "id": "d00c23ebc06d3ec3",
   "outputs": [
    {
     "name": "stdout",
     "output_type": "stream",
     "text": [
      "              precision    recall  f1-score   support\n",
      "\n",
      "     belfold       0.72      0.71      0.71      1086\n",
      "      bulvar       0.73      0.77      0.75       422\n",
      "     eletmod       0.59      0.62      0.60       143\n",
      "    gazdasag       0.71      0.71      0.71       640\n",
      "     kulfold       0.80      0.74      0.77       991\n",
      "     kultura       0.52      0.61      0.56       146\n",
      "       sport       0.88      0.86      0.87       324\n",
      "    tudomany       0.49      0.62      0.55       215\n",
      "\n",
      "    accuracy                           0.72      3967\n",
      "   macro avg       0.68      0.70      0.69      3967\n",
      "weighted avg       0.73      0.72      0.73      3967\n",
      "\n"
     ]
    }
   ],
   "execution_count": 68
  },
  {
   "metadata": {
    "ExecuteTime": {
     "end_time": "2025-06-05T11:28:37.067135Z",
     "start_time": "2025-06-05T11:28:35.930596Z"
    }
   },
   "cell_type": "code",
   "source": [
    "import joblib\n",
    "joblib.dump(best_model, \"xgboost_best_model.pkl\")\n",
    "joblib.dump(vectorizer, \"tfidf_vectorizer.pkl\")\n",
    "joblib.dump(le, \"label_encoder.pkl\")\n"
   ],
   "id": "b73500dbda17c280",
   "outputs": [
    {
     "data": {
      "text/plain": [
       "['label_encoder.pkl']"
      ]
     },
     "execution_count": 69,
     "metadata": {},
     "output_type": "execute_result"
    }
   ],
   "execution_count": 69
  },
  {
   "metadata": {
    "ExecuteTime": {
     "end_time": "2025-06-05T11:28:37.098129Z",
     "start_time": "2025-06-05T11:28:37.083129Z"
    }
   },
   "cell_type": "code",
   "source": [
    "def predict_category(text: str) -> str:\n",
    "    text_clean = (lemmatize(text)).lower()\n",
    "    X = vectorizer.transform([text_clean])\n",
    "    pred = best_model.predict(X)\n",
    "    return le.inverse_transform(pred)[0]\n"
   ],
   "id": "dd7d191bda398575",
   "outputs": [],
   "execution_count": 70
  },
  {
   "metadata": {
    "ExecuteTime": {
     "end_time": "2025-06-05T11:28:37.177141Z",
     "start_time": "2025-06-05T11:28:37.115143Z"
    }
   },
   "cell_type": "code",
   "source": "predict_category('A női energia aktiválása! 4 gyakorlat, hogy újra kapcsolódj a feminin énedhez')",
   "id": "2fcc258db1de055b",
   "outputs": [
    {
     "data": {
      "text/plain": [
       "'sport'"
      ]
     },
     "execution_count": 71,
     "metadata": {},
     "output_type": "execute_result"
    }
   ],
   "execution_count": 71
  },
  {
   "metadata": {},
   "cell_type": "markdown",
   "source": "## Kategória predikció Neurális hálóval-val",
   "id": "3b2707f4dba64766"
  },
  {
   "metadata": {
    "ExecuteTime": {
     "end_time": "2025-06-05T11:28:49.427308Z",
     "start_time": "2025-06-05T11:28:37.208746Z"
    }
   },
   "cell_type": "code",
   "source": [
    "from sklearn.feature_extraction.text import TfidfVectorizer\n",
    "from sklearn.model_selection import train_test_split\n",
    "from sklearn.preprocessing import LabelEncoder\n",
    "from sklearn.utils.class_weight import compute_class_weight\n",
    "from tensorflow.keras.models import Sequential\n",
    "from tensorflow.keras.layers import Dense\n",
    "from tensorflow.keras.utils import to_categorical\n",
    "from tensorflow.keras.callbacks import EarlyStopping\n",
    "from tensorflow.keras.layers import Dropout\n",
    "\n",
    "\n",
    "vectorizer = TfidfVectorizer(max_features=10000, ngram_range=(1, 2))\n",
    "X = vectorizer.fit_transform(df['combined'])\n",
    "\n",
    "le = LabelEncoder()\n",
    "y = le.fit_transform(df['category'])\n",
    "y_cat = to_categorical(y)\n",
    "\n",
    "# 3. Tanító és teszt halmaz\n",
    "X_train, X_temp, y_train, y_temp = train_test_split(X, y_cat, stratify=y, test_size=0.3, random_state=42)\n",
    "X_val, X_test, y_val, y_test = train_test_split(X_temp, y_temp, test_size=0.5, random_state=42)\n",
    "\n",
    "\n",
    "# 4. Súlyozás a kiegyensúlyozatlan osztályokhoz\n",
    "class_weights = compute_class_weight(class_weight='balanced', classes=np.unique(y), y=y)\n",
    "weight_dict = dict(enumerate(class_weights))\n",
    "\n",
    "# 5. Neurális háló modell\n",
    "model = Sequential([\n",
    "    Dense(64, activation='relu', input_shape=(X.shape[1],)),\n",
    "    Dropout(0.5),\n",
    "    Dense(64, activation='relu'),\n",
    "    Dense(y_cat.shape[1], activation='softmax')\n",
    "])\n",
    "\n",
    "model.compile(optimizer='adam', loss='categorical_crossentropy', metrics=['accuracy'])\n",
    "\n",
    "early_stop = EarlyStopping(monitor='val_loss', patience=4, restore_best_weights=True)\n",
    "\n",
    "# 6. Tanítás\n",
    "model.fit(\n",
    "    X_train.toarray(), y_train,\n",
    "    validation_data=(X_val.toarray(), y_val),\n",
    "    epochs=10,\n",
    "    batch_size=64,\n",
    "    class_weight=weight_dict,\n",
    "    callbacks=[early_stop]\n",
    ")\n",
    "\n",
    "# 7. Értékelés\n",
    "loss, acc = model.evaluate(X_test.toarray(), y_test)\n",
    "print(f\"Pontosság: {acc:.3f}\")"
   ],
   "id": "29621ffd8201123d",
   "outputs": [
    {
     "name": "stdout",
     "output_type": "stream",
     "text": [
      "Epoch 1/10\n",
      "217/217 [==============================] - 2s 7ms/step - loss: 1.7273 - accuracy: 0.4618 - val_loss: 1.0359 - val_accuracy: 0.7190\n",
      "Epoch 2/10\n",
      "217/217 [==============================] - 1s 6ms/step - loss: 0.8526 - accuracy: 0.7536 - val_loss: 0.7653 - val_accuracy: 0.7523\n",
      "Epoch 3/10\n",
      "217/217 [==============================] - 1s 6ms/step - loss: 0.5228 - accuracy: 0.8293 - val_loss: 0.7447 - val_accuracy: 0.7546\n",
      "Epoch 4/10\n",
      "217/217 [==============================] - 1s 5ms/step - loss: 0.3535 - accuracy: 0.8753 - val_loss: 0.7553 - val_accuracy: 0.7539\n",
      "Epoch 5/10\n",
      "217/217 [==============================] - 1s 5ms/step - loss: 0.2603 - accuracy: 0.9046 - val_loss: 0.7873 - val_accuracy: 0.7469\n",
      "Epoch 6/10\n",
      "217/217 [==============================] - 1s 5ms/step - loss: 0.1964 - accuracy: 0.9287 - val_loss: 0.8331 - val_accuracy: 0.7472\n",
      "Epoch 7/10\n",
      "217/217 [==============================] - 1s 6ms/step - loss: 0.1446 - accuracy: 0.9424 - val_loss: 0.8882 - val_accuracy: 0.7425\n",
      "93/93 [==============================] - 0s 1ms/step - loss: 0.7429 - accuracy: 0.7607\n",
      "Pontosság: 0.761\n"
     ]
    }
   ],
   "execution_count": 72
  },
  {
   "metadata": {
    "ExecuteTime": {
     "end_time": "2025-06-05T11:28:49.627858Z",
     "start_time": "2025-06-05T11:28:49.443044Z"
    }
   },
   "cell_type": "code",
   "source": [
    "import pickle\n",
    "model.save(\"models/category_predicter.keras\")\n",
    "\n",
    "# 2. A TF-IDF vectorizer mentése\n",
    "with open(\"models/vectorizer.pkl\", \"wb\") as f:\n",
    "    pickle.dump(vectorizer, f)\n",
    "\n",
    "with open(\"models/label_encoder.pkl\", \"wb\") as f:\n",
    "    pickle.dump(le, f)\n"
   ],
   "id": "4b6c907185f68f2d",
   "outputs": [],
   "execution_count": 73
  },
  {
   "metadata": {},
   "cell_type": "markdown",
   "source": "## Tesztelés",
   "id": "2a8c23e31ff9063"
  },
  {
   "metadata": {
    "ExecuteTime": {
     "end_time": "2025-06-05T11:28:49.920663Z",
     "start_time": "2025-06-05T11:28:49.643892Z"
    }
   },
   "cell_type": "code",
   "source": [
    "from tensorflow.keras.models import load_model\n",
    "\n",
    "model = load_model(\"models/category_predicter.keras\")\n",
    "\n",
    "with open(\"models/vectorizer.pkl\", \"rb\") as f:\n",
    "    vectorizer = pickle.load(f)\n",
    "with open(\"models/label_encoder.pkl\", \"rb\") as f:\n",
    "    le = pickle.load(f)\n"
   ],
   "id": "407a2238771801f1",
   "outputs": [],
   "execution_count": 74
  },
  {
   "metadata": {
    "ExecuteTime": {
     "end_time": "2025-06-05T11:28:49.967074Z",
     "start_time": "2025-06-05T11:28:49.936678Z"
    }
   },
   "cell_type": "code",
   "source": "tester = pd.read_sql(\"SELECT * FROM articles WHERE lemmatized_text is NULL \", con=engine)",
   "id": "5df12a3b0f9ce870",
   "outputs": [],
   "execution_count": 75
  },
  {
   "metadata": {
    "ExecuteTime": {
     "end_time": "2025-06-05T11:28:50.029787Z",
     "start_time": "2025-06-05T11:28:49.984068Z"
    }
   },
   "cell_type": "code",
   "source": [
    "tester[\"text\"] = tester[\"title\"].fillna(\"\") + \" \" + tester[\"summary\"].fillna(\"\")\n",
    "tester['lemmatized_text'] = tester['text'].apply(lemmatize)\n",
    "\n",
    "tester[\"combined\"] = tester[\"text\"] + \" \" + tester['lemmatized_text']\n",
    "X_new = vectorizer.transform(tester[\"combined\"])"
   ],
   "id": "43df888c4c5efc54",
   "outputs": [
    {
     "ename": "ValueError",
     "evalue": "Found array with 0 sample(s) (shape=(0, 10000)) while a minimum of 1 is required by TfidfTransformer.",
     "output_type": "error",
     "traceback": [
      "\u001B[1;31m---------------------------------------------------------------------------\u001B[0m",
      "\u001B[1;31mValueError\u001B[0m                                Traceback (most recent call last)",
      "Cell \u001B[1;32mIn[76], line 5\u001B[0m\n\u001B[0;32m      2\u001B[0m tester[\u001B[38;5;124m'\u001B[39m\u001B[38;5;124mlemmatized_text\u001B[39m\u001B[38;5;124m'\u001B[39m] \u001B[38;5;241m=\u001B[39m tester[\u001B[38;5;124m'\u001B[39m\u001B[38;5;124mtext\u001B[39m\u001B[38;5;124m'\u001B[39m]\u001B[38;5;241m.\u001B[39mapply(lemmatize)\n\u001B[0;32m      4\u001B[0m tester[\u001B[38;5;124m\"\u001B[39m\u001B[38;5;124mcombined\u001B[39m\u001B[38;5;124m\"\u001B[39m] \u001B[38;5;241m=\u001B[39m tester[\u001B[38;5;124m\"\u001B[39m\u001B[38;5;124mtext\u001B[39m\u001B[38;5;124m\"\u001B[39m] \u001B[38;5;241m+\u001B[39m \u001B[38;5;124m\"\u001B[39m\u001B[38;5;124m \u001B[39m\u001B[38;5;124m\"\u001B[39m \u001B[38;5;241m+\u001B[39m tester[\u001B[38;5;124m'\u001B[39m\u001B[38;5;124mlemmatized_text\u001B[39m\u001B[38;5;124m'\u001B[39m]\n\u001B[1;32m----> 5\u001B[0m X_new \u001B[38;5;241m=\u001B[39m \u001B[43mvectorizer\u001B[49m\u001B[38;5;241;43m.\u001B[39;49m\u001B[43mtransform\u001B[49m\u001B[43m(\u001B[49m\u001B[43mtester\u001B[49m\u001B[43m[\u001B[49m\u001B[38;5;124;43m\"\u001B[39;49m\u001B[38;5;124;43mcombined\u001B[39;49m\u001B[38;5;124;43m\"\u001B[39;49m\u001B[43m]\u001B[49m\u001B[43m)\u001B[49m\n",
      "File \u001B[1;32m~\\projects\\ml\\cubix_ml_vizsga\\.venv\\lib\\site-packages\\sklearn\\feature_extraction\\text.py:2164\u001B[0m, in \u001B[0;36mTfidfVectorizer.transform\u001B[1;34m(self, raw_documents)\u001B[0m\n\u001B[0;32m   2161\u001B[0m check_is_fitted(\u001B[38;5;28mself\u001B[39m, msg\u001B[38;5;241m=\u001B[39m\u001B[38;5;124m\"\u001B[39m\u001B[38;5;124mThe TF-IDF vectorizer is not fitted\u001B[39m\u001B[38;5;124m\"\u001B[39m)\n\u001B[0;32m   2163\u001B[0m X \u001B[38;5;241m=\u001B[39m \u001B[38;5;28msuper\u001B[39m()\u001B[38;5;241m.\u001B[39mtransform(raw_documents)\n\u001B[1;32m-> 2164\u001B[0m \u001B[38;5;28;01mreturn\u001B[39;00m \u001B[38;5;28;43mself\u001B[39;49m\u001B[38;5;241;43m.\u001B[39;49m\u001B[43m_tfidf\u001B[49m\u001B[38;5;241;43m.\u001B[39;49m\u001B[43mtransform\u001B[49m\u001B[43m(\u001B[49m\u001B[43mX\u001B[49m\u001B[43m,\u001B[49m\u001B[43m \u001B[49m\u001B[43mcopy\u001B[49m\u001B[38;5;241;43m=\u001B[39;49m\u001B[38;5;28;43;01mFalse\u001B[39;49;00m\u001B[43m)\u001B[49m\n",
      "File \u001B[1;32m~\\projects\\ml\\cubix_ml_vizsga\\.venv\\lib\\site-packages\\sklearn\\feature_extraction\\text.py:1710\u001B[0m, in \u001B[0;36mTfidfTransformer.transform\u001B[1;34m(self, X, copy)\u001B[0m\n\u001B[0;32m   1693\u001B[0m \u001B[38;5;28;01mdef\u001B[39;00m\u001B[38;5;250m \u001B[39m\u001B[38;5;21mtransform\u001B[39m(\u001B[38;5;28mself\u001B[39m, X, copy\u001B[38;5;241m=\u001B[39m\u001B[38;5;28;01mTrue\u001B[39;00m):\n\u001B[0;32m   1694\u001B[0m \u001B[38;5;250m    \u001B[39m\u001B[38;5;124;03m\"\"\"Transform a count matrix to a tf or tf-idf representation.\u001B[39;00m\n\u001B[0;32m   1695\u001B[0m \n\u001B[0;32m   1696\u001B[0m \u001B[38;5;124;03m    Parameters\u001B[39;00m\n\u001B[1;32m   (...)\u001B[0m\n\u001B[0;32m   1708\u001B[0m \u001B[38;5;124;03m        Tf-idf-weighted document-term matrix.\u001B[39;00m\n\u001B[0;32m   1709\u001B[0m \u001B[38;5;124;03m    \"\"\"\u001B[39;00m\n\u001B[1;32m-> 1710\u001B[0m     X \u001B[38;5;241m=\u001B[39m \u001B[38;5;28;43mself\u001B[39;49m\u001B[38;5;241;43m.\u001B[39;49m\u001B[43m_validate_data\u001B[49m\u001B[43m(\u001B[49m\n\u001B[0;32m   1711\u001B[0m \u001B[43m        \u001B[49m\u001B[43mX\u001B[49m\u001B[43m,\u001B[49m\u001B[43m \u001B[49m\u001B[43maccept_sparse\u001B[49m\u001B[38;5;241;43m=\u001B[39;49m\u001B[38;5;124;43m\"\u001B[39;49m\u001B[38;5;124;43mcsr\u001B[39;49m\u001B[38;5;124;43m\"\u001B[39;49m\u001B[43m,\u001B[49m\u001B[43m \u001B[49m\u001B[43mdtype\u001B[49m\u001B[38;5;241;43m=\u001B[39;49m\u001B[43mFLOAT_DTYPES\u001B[49m\u001B[43m,\u001B[49m\u001B[43m \u001B[49m\u001B[43mcopy\u001B[49m\u001B[38;5;241;43m=\u001B[39;49m\u001B[43mcopy\u001B[49m\u001B[43m,\u001B[49m\u001B[43m \u001B[49m\u001B[43mreset\u001B[49m\u001B[38;5;241;43m=\u001B[39;49m\u001B[38;5;28;43;01mFalse\u001B[39;49;00m\n\u001B[0;32m   1712\u001B[0m \u001B[43m    \u001B[49m\u001B[43m)\u001B[49m\n\u001B[0;32m   1713\u001B[0m     \u001B[38;5;28;01mif\u001B[39;00m \u001B[38;5;129;01mnot\u001B[39;00m sp\u001B[38;5;241m.\u001B[39missparse(X):\n\u001B[0;32m   1714\u001B[0m         X \u001B[38;5;241m=\u001B[39m sp\u001B[38;5;241m.\u001B[39mcsr_matrix(X, dtype\u001B[38;5;241m=\u001B[39mnp\u001B[38;5;241m.\u001B[39mfloat64)\n",
      "File \u001B[1;32m~\\projects\\ml\\cubix_ml_vizsga\\.venv\\lib\\site-packages\\sklearn\\base.py:605\u001B[0m, in \u001B[0;36mBaseEstimator._validate_data\u001B[1;34m(self, X, y, reset, validate_separately, cast_to_ndarray, **check_params)\u001B[0m\n\u001B[0;32m    603\u001B[0m         out \u001B[38;5;241m=\u001B[39m X, y\n\u001B[0;32m    604\u001B[0m \u001B[38;5;28;01melif\u001B[39;00m \u001B[38;5;129;01mnot\u001B[39;00m no_val_X \u001B[38;5;129;01mand\u001B[39;00m no_val_y:\n\u001B[1;32m--> 605\u001B[0m     out \u001B[38;5;241m=\u001B[39m check_array(X, input_name\u001B[38;5;241m=\u001B[39m\u001B[38;5;124m\"\u001B[39m\u001B[38;5;124mX\u001B[39m\u001B[38;5;124m\"\u001B[39m, \u001B[38;5;241m*\u001B[39m\u001B[38;5;241m*\u001B[39mcheck_params)\n\u001B[0;32m    606\u001B[0m \u001B[38;5;28;01melif\u001B[39;00m no_val_X \u001B[38;5;129;01mand\u001B[39;00m \u001B[38;5;129;01mnot\u001B[39;00m no_val_y:\n\u001B[0;32m    607\u001B[0m     out \u001B[38;5;241m=\u001B[39m _check_y(y, \u001B[38;5;241m*\u001B[39m\u001B[38;5;241m*\u001B[39mcheck_params)\n",
      "File \u001B[1;32m~\\projects\\ml\\cubix_ml_vizsga\\.venv\\lib\\site-packages\\sklearn\\utils\\validation.py:967\u001B[0m, in \u001B[0;36mcheck_array\u001B[1;34m(array, accept_sparse, accept_large_sparse, dtype, order, copy, force_all_finite, ensure_2d, allow_nd, ensure_min_samples, ensure_min_features, estimator, input_name)\u001B[0m\n\u001B[0;32m    965\u001B[0m     n_samples \u001B[38;5;241m=\u001B[39m _num_samples(array)\n\u001B[0;32m    966\u001B[0m     \u001B[38;5;28;01mif\u001B[39;00m n_samples \u001B[38;5;241m<\u001B[39m ensure_min_samples:\n\u001B[1;32m--> 967\u001B[0m         \u001B[38;5;28;01mraise\u001B[39;00m \u001B[38;5;167;01mValueError\u001B[39;00m(\n\u001B[0;32m    968\u001B[0m             \u001B[38;5;124m\"\u001B[39m\u001B[38;5;124mFound array with \u001B[39m\u001B[38;5;132;01m%d\u001B[39;00m\u001B[38;5;124m sample(s) (shape=\u001B[39m\u001B[38;5;132;01m%s\u001B[39;00m\u001B[38;5;124m) while a\u001B[39m\u001B[38;5;124m\"\u001B[39m\n\u001B[0;32m    969\u001B[0m             \u001B[38;5;124m\"\u001B[39m\u001B[38;5;124m minimum of \u001B[39m\u001B[38;5;132;01m%d\u001B[39;00m\u001B[38;5;124m is required\u001B[39m\u001B[38;5;132;01m%s\u001B[39;00m\u001B[38;5;124m.\u001B[39m\u001B[38;5;124m\"\u001B[39m\n\u001B[0;32m    970\u001B[0m             \u001B[38;5;241m%\u001B[39m (n_samples, array\u001B[38;5;241m.\u001B[39mshape, ensure_min_samples, context)\n\u001B[0;32m    971\u001B[0m         )\n\u001B[0;32m    973\u001B[0m \u001B[38;5;28;01mif\u001B[39;00m ensure_min_features \u001B[38;5;241m>\u001B[39m \u001B[38;5;241m0\u001B[39m \u001B[38;5;129;01mand\u001B[39;00m array\u001B[38;5;241m.\u001B[39mndim \u001B[38;5;241m==\u001B[39m \u001B[38;5;241m2\u001B[39m:\n\u001B[0;32m    974\u001B[0m     n_features \u001B[38;5;241m=\u001B[39m array\u001B[38;5;241m.\u001B[39mshape[\u001B[38;5;241m1\u001B[39m]\n",
      "\u001B[1;31mValueError\u001B[0m: Found array with 0 sample(s) (shape=(0, 10000)) while a minimum of 1 is required by TfidfTransformer."
     ]
    }
   ],
   "execution_count": 76
  },
  {
   "metadata": {
    "ExecuteTime": {
     "end_time": "2025-06-05T11:28:50.030372Z",
     "start_time": "2025-06-05T09:36:46.910678Z"
    }
   },
   "cell_type": "code",
   "source": [
    "y_pred = model.predict(X_new.toarray())\n",
    "y_labels = np.argmax(y_pred, axis=1)\n",
    "tester[\"predicted_category\"] = le.inverse_transform(y_labels)"
   ],
   "id": "2e72260f4647c3ad",
   "outputs": [
    {
     "name": "stdout",
     "output_type": "stream",
     "text": [
      "1/1 [==============================] - 0s 42ms/step\n"
     ]
    }
   ],
   "execution_count": 39
  },
  {
   "metadata": {
    "ExecuteTime": {
     "end_time": "2025-06-05T11:28:50.050573Z",
     "start_time": "2025-06-05T09:36:50.595679Z"
    }
   },
   "cell_type": "code",
   "source": "tester",
   "id": "98823d9b888872a1",
   "outputs": [
    {
     "data": {
      "text/plain": [
       "       id                                              title  \\\n",
       "0   30254  Nem csökken a fenyegetés: 60 ezer embert szólí...   \n",
       "1   30255  Friss kutatásból derül ki, hogy állnak a magya...   \n",
       "2   30256  Nagyobb veszélyben vannak a rákos beteg férfia...   \n",
       "3   30257  Újabb nyolc Apple termékkel szakít a YouTube, ...   \n",
       "4   30258  Adósrabszolgaság veszélyére figyelmeztette az ...   \n",
       "5   30259  Marco Rossi óriási kockázatot vállalt, ha nem ...   \n",
       "6   30260  Visszatér Magyarországra az elektronikus zene ...   \n",
       "7   30261                    Sopronban indul a boldogság éve   \n",
       "8   30262  A románok idáig jutottak: most már Magyarorszá...   \n",
       "9   30263  Menekülnek a Wizz Air befektetői, értéke negye...   \n",
       "10  30264  Hungarian law conflating homosexuals with pedo...   \n",
       "11  30265  Magyarázza a bizonyítványát a kamu Clint Eastw...   \n",
       "12  30266  Betörtek az ukránok az egyik legnagyobb orosz ...   \n",
       "13  30267  Trump védelmi minisztere olyan NATO-kiadásnöve...   \n",
       "14  30268  Az energiaátmenetre már kétszer annyit költ a ...   \n",
       "15  30269  Döbbenet, ami kiderült: másnaposan ment be dol...   \n",
       "16  30270  Orbán Viktor: Az orosz-ukrán háború lett az a ...   \n",
       "17  30271  Gyász: tragikus autóbaleset történt, elhunyt e...   \n",
       "18  30272  Elfogytak a szavak: holtan találták a népszerű...   \n",
       "\n",
       "                                              summary  \\\n",
       "0   Boris Pistorius német védelmi miniszter csütör...   \n",
       "1   A magyar lakosság leginkább a megújuló energia...   \n",
       "2   Az Y-kromoszóma elvesztése csökkenti gyógyulás...   \n",
       "3   Nem csak iPhone-ok, hanem iPadek és még egy iP...   \n",
       "4   Úgy látja, ha így folytatódik „csak a kamatfiz...   \n",
       "5   A magyar válogatott történetében új fejezetet ...   \n",
       "6                                                       \n",
       "7   Június 1-jén nyitotta meg kapuit a SopronFest,...   \n",
       "8                     A tények azonban mást mutatnak.   \n",
       "9   Jelentett a légitáraság, megindult a részvénye...   \n",
       "10  A total of 15 governments have now joined the ...   \n",
       "11  Nagyon hasonlóan védekezett, mint korábban a k...   \n",
       "12  Összesen több gigabájtnyi adatot loptak el ukr...   \n",
       "13  Pete Hegseth szerint a hónap végéig döntés szü...   \n",
       "14  Az olajárak csökkenése visszafogta a kiadásoka...   \n",
       "15                       Ezen most sokan meglepődnek.   \n",
       "16         Mára „oda a Nyugat legendás életminősége\".   \n",
       "17  A gyermek édesapjának állapota továbbra is kri...   \n",
       "18                 Az edzőterme visszavonásig bezárt.   \n",
       "\n",
       "                                      lemmatized_text  \\\n",
       "0   csökken fenyegetés ezer ember szólít fegyver n...   \n",
       "1   friss kutatás derül áll magyar megújuló energi...   \n",
       "2   veszély rákos beteg férfi gondol elvesztés csö...   \n",
       "3   nyolc apple termék szakít youtube csupán megol...   \n",
       "4   adósrabszolgaság veszély figyelmeztet egyesült...   \n",
       "5   marco rossi óriási kockázat vállal jön döntés ...   \n",
       "6   visszatér magyarország elektronikus zene franc...   \n",
       "7   sopron indul boldogság év június nyit kapu sop...   \n",
       "8   román idáig jut magyarország okol parajdi kata...   \n",
       "9   menekül wizz air befektetői érték negyed veszí...   \n",
       "10  hungarian law conflating homosexuals with pedo...   \n",
       "11  magyaráz bizonyítvány kamu clint gyártó újságí...   \n",
       "12  betör ukrán nagy orosz katonai repülőgépgyár r...   \n",
       "13  trump védelmi miniszter helyez kilátás orbán t...   \n",
       "14  energiaátmenet két annyi költ világ idén fossz...   \n",
       "15  döbbenet kiderül másnapos megy dolgozik tilla ...   \n",
       "16  orbán viktor háború katalizátor amely hivatkoz...   \n",
       "17  gyász tragikus autóbaleset történik elhuny nég...   \n",
       "18  elfogy szó holt talál népszerű fitneszedző gye...   \n",
       "\n",
       "                                                 link             category  \\\n",
       "0   https://www.portfolio.hu/global/20250605/nem-c...               Globál   \n",
       "1   https://www.portfolio.hu/uzlet/20250605/friss-...                Üzlet   \n",
       "2   https://index.hu/tudomany/2025/06/05/y-kromosz...             Tudomány   \n",
       "3   https://index.hu/techtud/2025/06/05/youtube-ip...        Tech-tudomány   \n",
       "4   https://index.hu/kulfold/2025/06/05/elon-musk-...              Külföld   \n",
       "5   https://index.hu/sport/futball/2025/06/05/magy...              Futball   \n",
       "6   https://index.hu/mindekozben/poszt/2025/06/05/...          Mindeközben   \n",
       "7   https://mandiner.hu/kultura/2025/06/sopronban-...              kultura   \n",
       "8   https://mandiner.hu/kulfold/2025/06/a-romanok-...              kulfold   \n",
       "9   https://24.hu/fn/gazdasag/2025/06/05/wizz-air-...             Gazdaság   \n",
       "10  https://telex.hu/english/2025/06/05/hungarian-...              English   \n",
       "11  http://hvg.hu/kultura/20250605_Magyarazza-a-bi...              kultura   \n",
       "12  http://hvg.hu/tudomany/20250605_ukran-hirszerz...             tudomany   \n",
       "13  http://hvg.hu/gazdasag/20250605_gdp-vedelmi-ki...             gazdasag   \n",
       "14  https://www.vg.hu/nemzetkozi-gazdasag/2025/06/...             gazdaság   \n",
       "15  https://blikkruzs.blikk.hu/sztarok/magyar-szta...              Sztárok   \n",
       "16  https://magyarnemzet.hu/kulfold/2025/06/orban-...      alapértelmezett   \n",
       "17  https://www.borsonline.hu/kozelet/2025/06/gyas...              kozelet   \n",
       "18  https://www.borsonline.hu/kulfoldi-sztarhirek/...  kulfoldi-sztarhirek   \n",
       "\n",
       "   predicted_category           published  \\\n",
       "0             kulfold 2025-06-05 09:29:00   \n",
       "1            gazdasag 2025-06-05 09:27:00   \n",
       "2            gazdasag 2025-06-05 09:33:00   \n",
       "3             eletmod 2025-06-05 09:26:00   \n",
       "4            gazdasag 2025-06-05 09:26:00   \n",
       "5               sport 2025-06-05 09:25:00   \n",
       "6             kultura 2025-06-05 09:05:13   \n",
       "7             kultura 2025-06-05 09:30:50   \n",
       "8            gazdasag 2025-06-05 09:25:11   \n",
       "9            gazdasag 2025-06-05 09:28:50   \n",
       "10            eletmod 2025-06-05 09:34:02   \n",
       "11            belfold 2025-06-05 09:35:36   \n",
       "12            kulfold 2025-06-05 09:33:00   \n",
       "13           gazdasag 2025-06-05 09:30:24   \n",
       "14           gazdasag 2025-06-05 09:30:35   \n",
       "15            eletmod 2025-06-05 09:25:22   \n",
       "16            kulfold 2025-06-05 09:33:16   \n",
       "17             bulvar 2025-06-05 09:30:00   \n",
       "18             bulvar 2025-06-05 09:25:19   \n",
       "\n",
       "                                                 text  \\\n",
       "0   Nem csökken a fenyegetés: 60 ezer embert szólí...   \n",
       "1   Friss kutatásból derül ki, hogy állnak a magya...   \n",
       "2   Nagyobb veszélyben vannak a rákos beteg férfia...   \n",
       "3   Újabb nyolc Apple termékkel szakít a YouTube, ...   \n",
       "4   Adósrabszolgaság veszélyére figyelmeztette az ...   \n",
       "5   Marco Rossi óriási kockázatot vállalt, ha nem ...   \n",
       "6   Visszatér Magyarországra az elektronikus zene ...   \n",
       "7   Sopronban indul a boldogság éve Június 1-jén n...   \n",
       "8   A románok idáig jutottak: most már Magyarorszá...   \n",
       "9   Menekülnek a Wizz Air befektetői, értéke negye...   \n",
       "10  Hungarian law conflating homosexuals with pedo...   \n",
       "11  Magyarázza a bizonyítványát a kamu Clint Eastw...   \n",
       "12  Betörtek az ukránok az egyik legnagyobb orosz ...   \n",
       "13  Trump védelmi minisztere olyan NATO-kiadásnöve...   \n",
       "14  Az energiaátmenetre már kétszer annyit költ a ...   \n",
       "15  Döbbenet, ami kiderült: másnaposan ment be dol...   \n",
       "16  Orbán Viktor: Az orosz-ukrán háború lett az a ...   \n",
       "17  Gyász: tragikus autóbaleset történt, elhunyt e...   \n",
       "18  Elfogytak a szavak: holtan találták a népszerű...   \n",
       "\n",
       "                                             combined  \n",
       "0   Nem csökken a fenyegetés: 60 ezer embert szólí...  \n",
       "1   Friss kutatásból derül ki, hogy állnak a magya...  \n",
       "2   Nagyobb veszélyben vannak a rákos beteg férfia...  \n",
       "3   Újabb nyolc Apple termékkel szakít a YouTube, ...  \n",
       "4   Adósrabszolgaság veszélyére figyelmeztette az ...  \n",
       "5   Marco Rossi óriási kockázatot vállalt, ha nem ...  \n",
       "6   Visszatér Magyarországra az elektronikus zene ...  \n",
       "7   Sopronban indul a boldogság éve Június 1-jén n...  \n",
       "8   A románok idáig jutottak: most már Magyarorszá...  \n",
       "9   Menekülnek a Wizz Air befektetői, értéke negye...  \n",
       "10  Hungarian law conflating homosexuals with pedo...  \n",
       "11  Magyarázza a bizonyítványát a kamu Clint Eastw...  \n",
       "12  Betörtek az ukránok az egyik legnagyobb orosz ...  \n",
       "13  Trump védelmi minisztere olyan NATO-kiadásnöve...  \n",
       "14  Az energiaátmenetre már kétszer annyit költ a ...  \n",
       "15  Döbbenet, ami kiderült: másnaposan ment be dol...  \n",
       "16  Orbán Viktor: Az orosz-ukrán háború lett az a ...  \n",
       "17  Gyász: tragikus autóbaleset történt, elhunyt e...  \n",
       "18  Elfogytak a szavak: holtan találták a népszerű...  "
      ],
      "text/html": [
       "<div>\n",
       "<style scoped>\n",
       "    .dataframe tbody tr th:only-of-type {\n",
       "        vertical-align: middle;\n",
       "    }\n",
       "\n",
       "    .dataframe tbody tr th {\n",
       "        vertical-align: top;\n",
       "    }\n",
       "\n",
       "    .dataframe thead th {\n",
       "        text-align: right;\n",
       "    }\n",
       "</style>\n",
       "<table border=\"1\" class=\"dataframe\">\n",
       "  <thead>\n",
       "    <tr style=\"text-align: right;\">\n",
       "      <th></th>\n",
       "      <th>id</th>\n",
       "      <th>title</th>\n",
       "      <th>summary</th>\n",
       "      <th>lemmatized_text</th>\n",
       "      <th>link</th>\n",
       "      <th>category</th>\n",
       "      <th>predicted_category</th>\n",
       "      <th>published</th>\n",
       "      <th>text</th>\n",
       "      <th>combined</th>\n",
       "    </tr>\n",
       "  </thead>\n",
       "  <tbody>\n",
       "    <tr>\n",
       "      <th>0</th>\n",
       "      <td>30254</td>\n",
       "      <td>Nem csökken a fenyegetés: 60 ezer embert szólí...</td>\n",
       "      <td>Boris Pistorius német védelmi miniszter csütör...</td>\n",
       "      <td>csökken fenyegetés ezer ember szólít fegyver n...</td>\n",
       "      <td>https://www.portfolio.hu/global/20250605/nem-c...</td>\n",
       "      <td>Globál</td>\n",
       "      <td>kulfold</td>\n",
       "      <td>2025-06-05 09:29:00</td>\n",
       "      <td>Nem csökken a fenyegetés: 60 ezer embert szólí...</td>\n",
       "      <td>Nem csökken a fenyegetés: 60 ezer embert szólí...</td>\n",
       "    </tr>\n",
       "    <tr>\n",
       "      <th>1</th>\n",
       "      <td>30255</td>\n",
       "      <td>Friss kutatásból derül ki, hogy állnak a magya...</td>\n",
       "      <td>A magyar lakosság leginkább a megújuló energia...</td>\n",
       "      <td>friss kutatás derül áll magyar megújuló energi...</td>\n",
       "      <td>https://www.portfolio.hu/uzlet/20250605/friss-...</td>\n",
       "      <td>Üzlet</td>\n",
       "      <td>gazdasag</td>\n",
       "      <td>2025-06-05 09:27:00</td>\n",
       "      <td>Friss kutatásból derül ki, hogy állnak a magya...</td>\n",
       "      <td>Friss kutatásból derül ki, hogy állnak a magya...</td>\n",
       "    </tr>\n",
       "    <tr>\n",
       "      <th>2</th>\n",
       "      <td>30256</td>\n",
       "      <td>Nagyobb veszélyben vannak a rákos beteg férfia...</td>\n",
       "      <td>Az Y-kromoszóma elvesztése csökkenti gyógyulás...</td>\n",
       "      <td>veszély rákos beteg férfi gondol elvesztés csö...</td>\n",
       "      <td>https://index.hu/tudomany/2025/06/05/y-kromosz...</td>\n",
       "      <td>Tudomány</td>\n",
       "      <td>gazdasag</td>\n",
       "      <td>2025-06-05 09:33:00</td>\n",
       "      <td>Nagyobb veszélyben vannak a rákos beteg férfia...</td>\n",
       "      <td>Nagyobb veszélyben vannak a rákos beteg férfia...</td>\n",
       "    </tr>\n",
       "    <tr>\n",
       "      <th>3</th>\n",
       "      <td>30257</td>\n",
       "      <td>Újabb nyolc Apple termékkel szakít a YouTube, ...</td>\n",
       "      <td>Nem csak iPhone-ok, hanem iPadek és még egy iP...</td>\n",
       "      <td>nyolc apple termék szakít youtube csupán megol...</td>\n",
       "      <td>https://index.hu/techtud/2025/06/05/youtube-ip...</td>\n",
       "      <td>Tech-tudomány</td>\n",
       "      <td>eletmod</td>\n",
       "      <td>2025-06-05 09:26:00</td>\n",
       "      <td>Újabb nyolc Apple termékkel szakít a YouTube, ...</td>\n",
       "      <td>Újabb nyolc Apple termékkel szakít a YouTube, ...</td>\n",
       "    </tr>\n",
       "    <tr>\n",
       "      <th>4</th>\n",
       "      <td>30258</td>\n",
       "      <td>Adósrabszolgaság veszélyére figyelmeztette az ...</td>\n",
       "      <td>Úgy látja, ha így folytatódik „csak a kamatfiz...</td>\n",
       "      <td>adósrabszolgaság veszély figyelmeztet egyesült...</td>\n",
       "      <td>https://index.hu/kulfold/2025/06/05/elon-musk-...</td>\n",
       "      <td>Külföld</td>\n",
       "      <td>gazdasag</td>\n",
       "      <td>2025-06-05 09:26:00</td>\n",
       "      <td>Adósrabszolgaság veszélyére figyelmeztette az ...</td>\n",
       "      <td>Adósrabszolgaság veszélyére figyelmeztette az ...</td>\n",
       "    </tr>\n",
       "    <tr>\n",
       "      <th>5</th>\n",
       "      <td>30259</td>\n",
       "      <td>Marco Rossi óriási kockázatot vállalt, ha nem ...</td>\n",
       "      <td>A magyar válogatott történetében új fejezetet ...</td>\n",
       "      <td>marco rossi óriási kockázat vállal jön döntés ...</td>\n",
       "      <td>https://index.hu/sport/futball/2025/06/05/magy...</td>\n",
       "      <td>Futball</td>\n",
       "      <td>sport</td>\n",
       "      <td>2025-06-05 09:25:00</td>\n",
       "      <td>Marco Rossi óriási kockázatot vállalt, ha nem ...</td>\n",
       "      <td>Marco Rossi óriási kockázatot vállalt, ha nem ...</td>\n",
       "    </tr>\n",
       "    <tr>\n",
       "      <th>6</th>\n",
       "      <td>30260</td>\n",
       "      <td>Visszatér Magyarországra az elektronikus zene ...</td>\n",
       "      <td></td>\n",
       "      <td>visszatér magyarország elektronikus zene franc...</td>\n",
       "      <td>https://index.hu/mindekozben/poszt/2025/06/05/...</td>\n",
       "      <td>Mindeközben</td>\n",
       "      <td>kultura</td>\n",
       "      <td>2025-06-05 09:05:13</td>\n",
       "      <td>Visszatér Magyarországra az elektronikus zene ...</td>\n",
       "      <td>Visszatér Magyarországra az elektronikus zene ...</td>\n",
       "    </tr>\n",
       "    <tr>\n",
       "      <th>7</th>\n",
       "      <td>30261</td>\n",
       "      <td>Sopronban indul a boldogság éve</td>\n",
       "      <td>Június 1-jén nyitotta meg kapuit a SopronFest,...</td>\n",
       "      <td>sopron indul boldogság év június nyit kapu sop...</td>\n",
       "      <td>https://mandiner.hu/kultura/2025/06/sopronban-...</td>\n",
       "      <td>kultura</td>\n",
       "      <td>kultura</td>\n",
       "      <td>2025-06-05 09:30:50</td>\n",
       "      <td>Sopronban indul a boldogság éve Június 1-jén n...</td>\n",
       "      <td>Sopronban indul a boldogság éve Június 1-jén n...</td>\n",
       "    </tr>\n",
       "    <tr>\n",
       "      <th>8</th>\n",
       "      <td>30262</td>\n",
       "      <td>A románok idáig jutottak: most már Magyarorszá...</td>\n",
       "      <td>A tények azonban mást mutatnak.</td>\n",
       "      <td>román idáig jut magyarország okol parajdi kata...</td>\n",
       "      <td>https://mandiner.hu/kulfold/2025/06/a-romanok-...</td>\n",
       "      <td>kulfold</td>\n",
       "      <td>gazdasag</td>\n",
       "      <td>2025-06-05 09:25:11</td>\n",
       "      <td>A románok idáig jutottak: most már Magyarorszá...</td>\n",
       "      <td>A románok idáig jutottak: most már Magyarorszá...</td>\n",
       "    </tr>\n",
       "    <tr>\n",
       "      <th>9</th>\n",
       "      <td>30263</td>\n",
       "      <td>Menekülnek a Wizz Air befektetői, értéke negye...</td>\n",
       "      <td>Jelentett a légitáraság, megindult a részvénye...</td>\n",
       "      <td>menekül wizz air befektetői érték negyed veszí...</td>\n",
       "      <td>https://24.hu/fn/gazdasag/2025/06/05/wizz-air-...</td>\n",
       "      <td>Gazdaság</td>\n",
       "      <td>gazdasag</td>\n",
       "      <td>2025-06-05 09:28:50</td>\n",
       "      <td>Menekülnek a Wizz Air befektetői, értéke negye...</td>\n",
       "      <td>Menekülnek a Wizz Air befektetői, értéke negye...</td>\n",
       "    </tr>\n",
       "    <tr>\n",
       "      <th>10</th>\n",
       "      <td>30264</td>\n",
       "      <td>Hungarian law conflating homosexuals with pedo...</td>\n",
       "      <td>A total of 15 governments have now joined the ...</td>\n",
       "      <td>hungarian law conflating homosexuals with pedo...</td>\n",
       "      <td>https://telex.hu/english/2025/06/05/hungarian-...</td>\n",
       "      <td>English</td>\n",
       "      <td>eletmod</td>\n",
       "      <td>2025-06-05 09:34:02</td>\n",
       "      <td>Hungarian law conflating homosexuals with pedo...</td>\n",
       "      <td>Hungarian law conflating homosexuals with pedo...</td>\n",
       "    </tr>\n",
       "    <tr>\n",
       "      <th>11</th>\n",
       "      <td>30265</td>\n",
       "      <td>Magyarázza a bizonyítványát a kamu Clint Eastw...</td>\n",
       "      <td>Nagyon hasonlóan védekezett, mint korábban a k...</td>\n",
       "      <td>magyaráz bizonyítvány kamu clint gyártó újságí...</td>\n",
       "      <td>http://hvg.hu/kultura/20250605_Magyarazza-a-bi...</td>\n",
       "      <td>kultura</td>\n",
       "      <td>belfold</td>\n",
       "      <td>2025-06-05 09:35:36</td>\n",
       "      <td>Magyarázza a bizonyítványát a kamu Clint Eastw...</td>\n",
       "      <td>Magyarázza a bizonyítványát a kamu Clint Eastw...</td>\n",
       "    </tr>\n",
       "    <tr>\n",
       "      <th>12</th>\n",
       "      <td>30266</td>\n",
       "      <td>Betörtek az ukránok az egyik legnagyobb orosz ...</td>\n",
       "      <td>Összesen több gigabájtnyi adatot loptak el ukr...</td>\n",
       "      <td>betör ukrán nagy orosz katonai repülőgépgyár r...</td>\n",
       "      <td>http://hvg.hu/tudomany/20250605_ukran-hirszerz...</td>\n",
       "      <td>tudomany</td>\n",
       "      <td>kulfold</td>\n",
       "      <td>2025-06-05 09:33:00</td>\n",
       "      <td>Betörtek az ukránok az egyik legnagyobb orosz ...</td>\n",
       "      <td>Betörtek az ukránok az egyik legnagyobb orosz ...</td>\n",
       "    </tr>\n",
       "    <tr>\n",
       "      <th>13</th>\n",
       "      <td>30267</td>\n",
       "      <td>Trump védelmi minisztere olyan NATO-kiadásnöve...</td>\n",
       "      <td>Pete Hegseth szerint a hónap végéig döntés szü...</td>\n",
       "      <td>trump védelmi miniszter helyez kilátás orbán t...</td>\n",
       "      <td>http://hvg.hu/gazdasag/20250605_gdp-vedelmi-ki...</td>\n",
       "      <td>gazdasag</td>\n",
       "      <td>gazdasag</td>\n",
       "      <td>2025-06-05 09:30:24</td>\n",
       "      <td>Trump védelmi minisztere olyan NATO-kiadásnöve...</td>\n",
       "      <td>Trump védelmi minisztere olyan NATO-kiadásnöve...</td>\n",
       "    </tr>\n",
       "    <tr>\n",
       "      <th>14</th>\n",
       "      <td>30268</td>\n",
       "      <td>Az energiaátmenetre már kétszer annyit költ a ...</td>\n",
       "      <td>Az olajárak csökkenése visszafogta a kiadásoka...</td>\n",
       "      <td>energiaátmenet két annyi költ világ idén fossz...</td>\n",
       "      <td>https://www.vg.hu/nemzetkozi-gazdasag/2025/06/...</td>\n",
       "      <td>gazdaság</td>\n",
       "      <td>gazdasag</td>\n",
       "      <td>2025-06-05 09:30:35</td>\n",
       "      <td>Az energiaátmenetre már kétszer annyit költ a ...</td>\n",
       "      <td>Az energiaátmenetre már kétszer annyit költ a ...</td>\n",
       "    </tr>\n",
       "    <tr>\n",
       "      <th>15</th>\n",
       "      <td>30269</td>\n",
       "      <td>Döbbenet, ami kiderült: másnaposan ment be dol...</td>\n",
       "      <td>Ezen most sokan meglepődnek.</td>\n",
       "      <td>döbbenet kiderül másnapos megy dolgozik tilla ...</td>\n",
       "      <td>https://blikkruzs.blikk.hu/sztarok/magyar-szta...</td>\n",
       "      <td>Sztárok</td>\n",
       "      <td>eletmod</td>\n",
       "      <td>2025-06-05 09:25:22</td>\n",
       "      <td>Döbbenet, ami kiderült: másnaposan ment be dol...</td>\n",
       "      <td>Döbbenet, ami kiderült: másnaposan ment be dol...</td>\n",
       "    </tr>\n",
       "    <tr>\n",
       "      <th>16</th>\n",
       "      <td>30270</td>\n",
       "      <td>Orbán Viktor: Az orosz-ukrán háború lett az a ...</td>\n",
       "      <td>Mára „oda a Nyugat legendás életminősége\".</td>\n",
       "      <td>orbán viktor háború katalizátor amely hivatkoz...</td>\n",
       "      <td>https://magyarnemzet.hu/kulfold/2025/06/orban-...</td>\n",
       "      <td>alapértelmezett</td>\n",
       "      <td>kulfold</td>\n",
       "      <td>2025-06-05 09:33:16</td>\n",
       "      <td>Orbán Viktor: Az orosz-ukrán háború lett az a ...</td>\n",
       "      <td>Orbán Viktor: Az orosz-ukrán háború lett az a ...</td>\n",
       "    </tr>\n",
       "    <tr>\n",
       "      <th>17</th>\n",
       "      <td>30271</td>\n",
       "      <td>Gyász: tragikus autóbaleset történt, elhunyt e...</td>\n",
       "      <td>A gyermek édesapjának állapota továbbra is kri...</td>\n",
       "      <td>gyász tragikus autóbaleset történik elhuny nég...</td>\n",
       "      <td>https://www.borsonline.hu/kozelet/2025/06/gyas...</td>\n",
       "      <td>kozelet</td>\n",
       "      <td>bulvar</td>\n",
       "      <td>2025-06-05 09:30:00</td>\n",
       "      <td>Gyász: tragikus autóbaleset történt, elhunyt e...</td>\n",
       "      <td>Gyász: tragikus autóbaleset történt, elhunyt e...</td>\n",
       "    </tr>\n",
       "    <tr>\n",
       "      <th>18</th>\n",
       "      <td>30272</td>\n",
       "      <td>Elfogytak a szavak: holtan találták a népszerű...</td>\n",
       "      <td>Az edzőterme visszavonásig bezárt.</td>\n",
       "      <td>elfogy szó holt talál népszerű fitneszedző gye...</td>\n",
       "      <td>https://www.borsonline.hu/kulfoldi-sztarhirek/...</td>\n",
       "      <td>kulfoldi-sztarhirek</td>\n",
       "      <td>bulvar</td>\n",
       "      <td>2025-06-05 09:25:19</td>\n",
       "      <td>Elfogytak a szavak: holtan találták a népszerű...</td>\n",
       "      <td>Elfogytak a szavak: holtan találták a népszerű...</td>\n",
       "    </tr>\n",
       "  </tbody>\n",
       "</table>\n",
       "</div>"
      ]
     },
     "execution_count": 40,
     "metadata": {},
     "output_type": "execute_result"
    }
   ],
   "execution_count": 40
  }
 ],
 "metadata": {
  "kernelspec": {
   "display_name": "Python 3 (ipykernel)",
   "language": "python",
   "name": "python3"
  },
  "language_info": {
   "codemirror_mode": {
    "name": "ipython",
    "version": 2
   },
   "file_extension": ".py",
   "mimetype": "text/x-python",
   "name": "python",
   "nbconvert_exporter": "python",
   "pygments_lexer": "ipython2",
   "version": "2.7.6"
  }
 },
 "nbformat": 4,
 "nbformat_minor": 5
}
